{
  "cells": [
    {
      "cell_type": "code",
      "metadata": {
        "id": "adVDrmP9qa73",
        "colab_type": "code",
        "outputId": "41d2e744-5125-473a-8fa5-15bd183f20b9",
        "colab": {
          "base_uri": "https://localhost:8080/",
          "height": 204
        }
      },
      "source": [
        "# !wget https://fmi-unibuc-ia.github.io/ia/Data/data_lab6.zip"
      ],
      "execution_count": null,
      "outputs": []
    },
    {
      "cell_type": "code",
      "metadata": {
        "id": "nLzBSNs5qe57",
        "colab_type": "code",
        "outputId": "7734825b-6cea-4070-d7c3-9c9388e79088",
        "colab": {
          "base_uri": "https://localhost:8080/",
          "height": 68
        }
      },
      "source": [
        "# !unzip data_lab6.zip"
      ],
      "execution_count": null,
      "outputs": []
    },
    {
      "cell_type": "code",
      "metadata": {
        "id": "xt-sdBHLqic4",
        "colab_type": "code",
        "outputId": "97f368e8-c377-42aa-fa61-e3b43811b254",
        "colab": {
          "base_uri": "https://localhost:8080/",
          "height": 272
        }
      },
      "source": [
        "import numpy as np\n",
        "from sklearn.utils import shuffle\n",
        "# load training data\n",
        "training_data = np.load('data-lab6/training_data.npy')\n",
        "prices = np.load('data-lab6/prices.npy')\n",
        "# print the first 4 samples\n",
        "print('The first 4 samples are:\\n ', training_data[:4])\n",
        "print('The first 4 prices are:\\n ', prices[:4])\n",
        "# shuffle\n",
        "training_data, prices = shuffle(training_data, prices, random_state=0)"
      ],
      "execution_count": null,
      "outputs": []
    },
    {
      "cell_type": "code",
      "metadata": {
        "id": "WkOO8AHLqpb0",
        "colab_type": "code",
        "colab": {}
      },
      "source": [
        "import sklearn.preprocessing as preprocessing\n",
        "\n",
        "def normalize(train_data, test_data, type=None):\n",
        "    if type is None:\n",
        "        return train_data, test_data\n",
        "    elif type == 'standard':\n",
        "        scaler = preprocessing.StandardScaler()\n",
        "        scaler.fit(train_data)\n",
        "        return scaler.transform(train_data), scaler.transform(test_data)\n",
        "    elif type == 'min-max':\n",
        "        scaler = preprocessing.MinMaxScaler()\n",
        "        scaler.fit(train_data)\n",
        "        return scaler.transform(train_data), scaler.transform(test_data)\n",
        "    elif type == 'l1' or type == 'l2':\n",
        "        scaler = preprocessing.Normalizer(type)\n",
        "        scaler.fit(train_data)\n",
        "        return scaler.transform(train_data), scaler.transform(test_data)"
      ],
      "execution_count": null,
      "outputs": []
    },
    {
      "cell_type": "code",
      "metadata": {
        "id": "zVX1_Q2mrOaM",
        "colab_type": "code",
        "outputId": "a24b5981-838d-4103-d1ed-3718daa6dac9",
        "colab": {
          "base_uri": "https://localhost:8080/",
          "height": 1000
        }
      },
      "source": [
        "import matplotlib.pyplot as plt\n",
        "\n",
        "for i in range(training_data.shape[1]):\n",
        "    plt.scatter(training_data[:,i], prices)\n",
        "    plt.show()"
      ],
      "execution_count": null,
      "outputs": []
    },
    {
      "cell_type": "code",
      "metadata": {
        "id": "jHOZUlBbrUGY",
        "colab_type": "code",
        "outputId": "44e79fa6-09cb-4a85-a035-a3b78e6d30b5",
        "colab": {
          "base_uri": "https://localhost:8080/",
          "height": 578
        }
      },
      "source": [
        "from sklearn.model_selection import cross_val_score, KFold\n",
        "from sklearn.metrics import mean_absolute_error, mean_squared_error\n",
        "from sklearn.linear_model import LinearRegression, Ridge, Lasso\n",
        "\n",
        "\n",
        "def train_and_validate(train_data, train_labels, n_folds, modelclass, alpha=None):\n",
        "    kf = KFold(n_splits=n_folds)\n",
        "\n",
        "    kf.get_n_splits(train_data)\n",
        "\n",
        "    mses = []\n",
        "    maes = []\n",
        "\n",
        "    for train_index, test_index in kf.split(train_data):\n",
        "        X_train, X_test = train_data[train_index], train_data[test_index]\n",
        "        y_train, y_test = train_labels[train_index], train_labels[test_index]\n",
        "\n",
        "        X_train_scaled, X_test_scaled = normalize(X_train, X_test, 'standard')\n",
        "\n",
        "        if alpha is None:\n",
        "            model = modelclass()\n",
        "        else:\n",
        "            model = modelclass(alpha=alpha)\n",
        "\n",
        "        model.fit(X_train_scaled, y_train)\n",
        "\n",
        "        predictions = model.predict(X_test_scaled)\n",
        "\n",
        "        # print(model.coef_)\n",
        "\n",
        "        # calculam MSE, MAE\n",
        "        mse_value = mean_squared_error(y_test, predictions)\n",
        "        mae_value = mean_absolute_error(y_test, predictions)\n",
        "\n",
        "        mses.append(mse_value)\n",
        "        maes.append(mae_value)\n",
        "\n",
        "    # print(mses)\n",
        "    # print(maes)\n",
        "\n",
        "    return np.mean(maes), np.mean(mses)\n",
        "\n",
        "print(train_and_validate(training_data, prices, 3, LinearRegression))\n",
        "\n",
        "print(train_and_validate(training_data, prices, 3, Lasso, 1.1))\n",
        "\n",
        "print(train_and_validate(training_data, prices, 3, Ridge, 1.1))"
      ],
      "execution_count": 6,
      "outputs": [
        {
          "output_type": "stream",
          "name": "stdout",
          "text": "(1.3203744, 3.1690786)\n(2.0192263, 6.7669826)\n(1.3195815, 3.1674192)\n"
        }
      ]
    },
    {
      "cell_type": "code",
      "metadata": {
        "id": "n2iOxrMRs-iP",
        "colab_type": "code",
        "colab": {}
      },
      "source": [
        "mse_min = []\n",
        "mae_min = []\n",
        "for alpha in [0.001, 0.01, 0.1, 1]:\n",
        "  mse, mae = train_and_validate(training_data, prices, 3, Ridge, alpha)\n",
        "\n",
        "  \n",
        "#   print(mse, mae)\n",
        "  mse_min.append((mse, alpha))\n",
        "  mae_min.append((mae,alpha))\n",
        "\n",
        "print(min(mse_min))\n",
        "print(min(mae_min))"
      ],
      "execution_count": 13,
      "outputs": [
        {
          "output_type": "stream",
          "name": "stdout",
          "text": "(1.3195841, 1)\n(3.1674213, 1)\n"
        }
      ]
    },
    {
      "cell_type": "code",
      "execution_count": null,
      "metadata": {},
      "outputs": [],
      "source": [
        "alpha = 10\n",
        "scaler = preprocessing.StandardScaler()\n",
        "scaler.fit(training_data)\n",
        "X_train_scaled = scaler.transform(training_data)\n",
        "\n",
        "\n"
      ]
    }
  ],
  "metadata": {
    "colab": {
      "name": "LAB06.ipynb",
      "provenance": [],
      "collapsed_sections": []
    },
    "kernelspec": {
      "name": "python3",
      "display_name": "Python 3"
    }
  },
  "nbformat": 4,
  "nbformat_minor": 0
}
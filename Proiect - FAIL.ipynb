{
 "cells": [
  {
   "cell_type": "code",
   "execution_count": 168,
   "metadata": {},
   "outputs": [],
   "source": [
    "import numpy as np\n",
    "import csv\n",
    "from scipy.io import wavfile as wav\n",
    "from scipy.fftpack import fft\n",
    "from random import randint\n",
    "import librosa\n",
    "from librosa import display\n",
    "from librosa import feature\n",
    "import matplotlib.pyplot as plt\n",
    "import matplotlib.image as img\n",
    "from sklearn.preprocessing import StandardScaler\n",
    "from sklearn.metrics import confusion_matrix\n",
    "\n",
    "SR = 16000\n",
    "\n",
    "FileNames = {\"train\":\"ml-fmi-23-2020//train.txt\", \"valid\":\"ml-fmi-23-2020//validation.txt\", \"test\":\"ml-fmi-23-2020//test.txt\", \"ex\":\"ml-fmi-23-2020//sample_submission.txt\",\"pred\":\"ml-fmi-23-2020//predictions.txt\"}\n",
    "\n",
    "AudioFolders = {\"train\":\"ml-fmi-23-2020//audio//train//\", \"valid\":\"ml-fmi-23-2020//audio//validation//\", \"test\":\"ml-fmi-23-2020//audio//test//\"}\n",
    "\n",
    "SpectogramFolders = {\"train\":\"ml-fmi-23-2020//spectogram//train//\", \"valid\":\"ml-fmi-23-2020//spectogram//validation//\", \"test\":\"ml-fmi-23-2020//spectogram//test//\"}\n",
    "\n",
    "def readCsv (fileName, hasLables):\n",
    "    data = []\n",
    "    with open(fileName, \"r\", newline='\\n') as csvfile:\n",
    "        for row in csv.reader(csvfile, delimiter=','):\n",
    "            data.extend(row)\n",
    "    if hasLables:\n",
    "        data = np.transpose(np.array(data).reshape((len(data)//2, 2))) \n",
    "    else:\n",
    "        data = np.array(data)\n",
    "    return data\n",
    "def writeCsv (data, labels, fileName = FileNames['pred']):\n",
    "    with open(fileName, \"w\", newline='\\n') as csvfile:\n",
    "        writer = csv.writer(csvfile, delimiter=',')\n",
    "        writer.writerow(['name', 'label'])\n",
    "        for row in np.transpose([data, labels]):\n",
    "            writer.writerow(row)\n",
    "\n",
    "def audioToSpectograms (folderName, dataNames):\n",
    "    i = 0\n",
    "    for dataName in dataNames:\n",
    "        i += 1\n",
    "        if i % 100 == 0:\n",
    "            print (i, '/', len(dataNames))\n",
    "        audio, sr = librosa.load(AudioFolders[folderName]+dataName)\n",
    "        audio_db  = librosa.amplitude_to_db(abs(librosa.stft(audio)))\n",
    "        librosa.display.specshow(audio_db, sr=sr, cmap='gray')\n",
    "        plt.savefig(SpectogramFolders[folderName]+dataName[:-3]+'png', bbox_inches='tight', pad_inches=0)\n",
    "    print ('Done with', folderName)\n",
    "\n",
    "def toBins(data, nrBins=8000, mi=0, ma=8000):\n",
    "    bins = np.linspace(start = mi, stop = ma, num = nrBins)\n",
    "    return np.digitize([d.reshape(-1) for d in data], bins) \n",
    "    # data_processed = (data - mi) / (ma - mi) # data to interval [0,1]\n",
    "    # return np.multiply(data_processed, nrBins) // 1 # data to interval [0, bins]\n",
    "\n",
    "def getData (folderName, dataNames):\n",
    "    data = []\n",
    "    for dataName in dataNames:\n",
    "        audio = librosa.load(AudioFolders[folderName]+dataName)[0]\n",
    "        data.append(librosa.feature.melspectrogram(y=audio, sr=SR, n_mels=128, fmax=8000))\n",
    "        # data.append(librosa.amplitude_to_db(abs(librosa.stft(audio))).reshape(-1))\n",
    "        # data.append(np.abs(fft(wav.read(AudioFolders[folderName]+dataName)[1])))\n",
    "    return np.array(data)"
   ]
  },
  {
   "cell_type": "code",
   "execution_count": 106,
   "metadata": {},
   "outputs": [],
   "source": [
    "# the len of each audio file is 16000 \n",
    "train_data_name, train_labels = readCsv(FileNames['train'], hasLables=True)\n",
    "valid_data_name, valid_labels = readCsv(FileNames['valid'], hasLables=True)\n",
    "test_data_name                = readCsv(FileNames['test'],  hasLables=False)\n",
    "# writeCsv(train_data, train_labels)"
   ]
  },
  {
   "cell_type": "code",
   "execution_count": 153,
   "metadata": {},
   "outputs": [],
   "source": [
    "# train_data = getData('train', train_data_name)\n",
    "# valid_data = getData('valid', valid_data_name)\n",
    "# test_data  = getData('test',  test_data_name)"
   ]
  },
  {
   "cell_type": "code",
   "execution_count": 169,
   "metadata": {},
   "outputs": [],
   "source": [
    "train = toBins(train_data)\n",
    "valid = toBins(valid_data)\n",
    "test  = toBins(test_data)"
   ]
  },
  {
   "cell_type": "code",
   "execution_count": 170,
   "metadata": {},
   "outputs": [
    {
     "output_type": "stream",
     "name": "stdout",
     "text": "0.515\n"
    }
   ],
   "source": [
    "from sklearn.neighbors import KNeighborsClassifier\n",
    "knn = KNeighborsClassifier(5)\n",
    "knn.fit(train, train_labels)\n",
    "# knn.score(valid_data, valid_labels)\n",
    "valid_pred_knn = knn.predict(valid)\n",
    "good_knn = np.argwhere(valid_pred_knn==valid_labels).reshape(-1)\n",
    "print (len(good_knn)/len(valid_pred_knn))"
   ]
  },
  {
   "cell_type": "code",
   "execution_count": null,
   "metadata": {},
   "outputs": [],
   "source": [
    "good = np.argwhere(valid_pred==valid_labels).reshape(-1)\n",
    "print (len(good)/len(valid_pred))"
   ]
  },
  {
   "cell_type": "code",
   "execution_count": null,
   "metadata": {},
   "outputs": [],
   "source": [
    "confusion_matrix(valid_pred, valid_labels)"
   ]
  },
  {
   "cell_type": "code",
   "execution_count": null,
   "metadata": {},
   "outputs": [],
   "source": [
    "def spectrogram (dataLen = 10, t=None):\n",
    "    if t not in ['0', '1', None]:\n",
    "        raise Exception (\"UnknownType\")\n",
    "    for i in range (dataLen):\n",
    "        curr = randint(0, len(train_data_name)-1)\n",
    "        if t is not None:\n",
    "            while train_labels[curr] != t:\n",
    "                curr = randint(0, len(train_data_name)-1)\n",
    "        \n",
    "        x , sr = librosa.load(AudioFolders['train']+train_data_name[curr])\n",
    "\n",
    "        # plt.figure(figsize=(14, 5))\n",
    "        # librosa.display.waveplot(x, sr=sr)\n",
    "\n",
    "        Xdb = librosa.amplitude_to_db(abs(librosa.stft(x)))\n",
    "        # plt.figure(figsize=(14, 5))\n",
    "        librosa.display.specshow(Xdb, sr=sr, cmap='gray', x_axis='time', y_axis='log')\n",
    "        # plt.savefig('test.png', bbox_inches='tight', pad_inches=0)\n",
    "        plt.colorbar()\n",
    "spectrogram(1)"
   ]
  },
  {
   "cell_type": "code",
   "execution_count": null,
   "metadata": {},
   "outputs": [],
   "source": [
    "import librosa\n",
    "import numpy\n",
    "import skimage\n",
    "\n",
    "def scale_minmax(X, min=0.0, max=1.0):\n",
    "    X_std = (X - X.min()) / (X.max() - X.min())\n",
    "    X_scaled = X_std * (max - min) + min\n",
    "    return X_scaled\n",
    "\n",
    "def spectrogram_image(y, sr, out, hop_length, n_mels):\n",
    "    # use log-melspectrogram\n",
    "    mels = librosa.feature.melspectrogram(y=y, sr=sr)\n",
    "    mels = numpy.log(mels + 1e-9) # add small number to avoid log(0)\n",
    "\n",
    "    # min-max scale to fit inside 8-bit range\n",
    "    img = scale_minmax(mels, 0, 255).astype(numpy.uint8)\n",
    "    img = numpy.flip(img, axis=0) # put low frequencies at the bottom in image\n",
    "    img = 255-img # invert. make black==more energy\n",
    "\n",
    "    # save as PNG\n",
    "    plt.imshow(img)\n",
    "\n",
    "\n",
    "if __name__ == '__main__':\n",
    "    # settings\n",
    "    hop_length = 512 # number of samples per time-step in spectrogram\n",
    "    n_mels = 128 # number of bins in spectrogram. Height of image\n",
    "    time_steps = 384 # number of time-steps. Width of image\n",
    "\n",
    "    # load audio. Using example from librosa\n",
    "    path = librosa.util.example_audio_file()\n",
    "    y, sr = librosa.load(AudioFolders['train']+train_data_name[0]) \n",
    "    #y, sr = librosa.load(path, offset=1.0, duration=10.0, sr=22050)\n",
    "    out = 'out.png'\n",
    "\n",
    "    # extract a fixed length window\n",
    "    start_sample = 0 # starting at beginning\n",
    "    length_samples = time_steps*hop_length\n",
    "    window = y#[start_sample:start_sample+length_samples]\n",
    "\n",
    "    # convert to PNG\n",
    "    spectrogram_image(window, sr=sr, out=out, hop_length=hop_length, n_mels=n_mels)\n",
    "    print('wrote file', out)"
   ]
  },
  {
   "cell_type": "code",
   "execution_count": 108,
   "metadata": {},
   "outputs": [
    {
     "output_type": "stream",
     "name": "stdout",
     "text": "2.410839e-17 975.5328\n745.0\n5.1736915e-16 910.9207\n206.0\n8.45909e-15 1007.74854\n565.0\n4.9533473e-18 1342.1692\n181.0\n6.80572e-16 786.81805\n340.0\n1.7421274e-17 1388.3912\n373.0\n1.6051241e-17 893.05054\n198.0\n8.7040725e-18 1533.666\n262.0\n7.971942e-18 884.98065\n58.0\n8.3372744e-16 4879.922\n577.0\n"
    }
   ],
   "source": [
    "# audio = librosa.load(AudioFolders['train']+train_data_name[0])[0]\n",
    "# spect = librosa.amplitude_to_db(abs(librosa.stft(audio))).reshape(-1)\n",
    "\n",
    "for i in range(10):\n",
    "    \n",
    "    y, sr = librosa.load(AudioFolders['train']+train_data_name[i]) \n",
    "    # C:\\Users\\costi\\Anaconda3\\Lib\\site-packages\\librosa\\feature\\spectral.py 1813\n",
    "    S = librosa.feature.melspectrogram(y=y, sr=SR, n_mels=128, fmax=8000)\n",
    "    # mels = numpy.log(mels + 1e-9) # add small number to avoid log(0)\n",
    "    print (S.min(), S.max())\n",
    "    S_scaled = toBins(S)\n",
    "    # S_dB = librosa.power_to_db(S, ref=np.max)\n",
    "    # print (S_dB.min(), S_dB.max())\n",
    "    # s_db_scaled = toBins(S_dB)\n",
    "\n",
    "    print (sum(sum(S_scaled)))\n",
    "    # print (sum(sum(s_db_scaled)))\n",
    "\n",
    "# plt.figure(figsize=(15, 4))\n",
    "# librosa.display.specshow(S_dB, x_axis='time', y_axis='mel', sr=sr, fmax=8000)\n",
    "# plt.colorbar(format='%+2.0f dB')\n",
    "# plt.title('Mel-frequency spectrogram')\n",
    "# plt.tight_layout()\n",
    "# plt.show()"
   ]
  }
 ],
 "metadata": {
  "language_info": {
   "codemirror_mode": {
    "name": "ipython",
    "version": 3
   },
   "file_extension": ".py",
   "mimetype": "text/x-python",
   "name": "python",
   "nbconvert_exporter": "python",
   "pygments_lexer": "ipython3",
   "version": "3.7.4-final"
  },
  "orig_nbformat": 2,
  "kernelspec": {
   "name": "python3",
   "display_name": "Python 3"
  }
 },
 "nbformat": 4,
 "nbformat_minor": 2
}
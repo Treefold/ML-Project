{
 "cells": [
  {
   "cell_type": "code",
   "execution_count": null,
   "metadata": {},
   "outputs": [],
   "source": [
    "from sklearn.naive_bayes import MultinomialNB"
   ]
  },
  {
   "cell_type": "code",
   "execution_count": 23,
   "metadata": {},
   "outputs": [
    {
     "output_type": "stream",
     "name": "stdout",
     "text": "0.842\n"
    }
   ],
   "source": [
    "train_images = np.loadtxt('data-lab4/train_images.txt')\n",
    "train_labels = np.loadtxt('data-lab4/train_labels.txt','float').astype(np.int)\n",
    "test_images = np.loadtxt('data-lab4/test_images.txt')\n",
    "test_labels = np.loadtxt('data-lab4/test_labels.txt', 'float').astype(np.int)\n",
    "\n",
    "def values_to_bins (data_matrix, num_bins):\n",
    "    bins = np.linspace(start = 0, stop = 255, num = num_bins)\n",
    "    return np.digitize(data_matrix, bins) - 1\n",
    "n = 7\n",
    "train_to_bins = values_to_bins(train_images, 7)\n",
    "test_to_bins = values_to_bins(test_images, 7)\n",
    "NB = MultinomialNB()\n",
    "NB.fit(train_to_bins, train_labels)\n",
    "print(NB.score(test_to_bins, test_labels))"
   ]
  },
  {
   "cell_type": "code",
   "execution_count": null,
   "metadata": {},
   "outputs": [],
   "source": [
    "pritnnp.argwhere(test_to_bins==test_labels)"
   ]
  },
  {
   "cell_type": "code",
   "execution_count": null,
   "metadata": {},
   "outputs": [],
   "source": [
    "from sklearn.naive_bayes import MultinomialNB\n",
    "\n",
    "clf = MultinomialNB()\n",
    "clf.fit(x_train, train_labels)\n",
    "print(clf.score(x_test, test_labels))\n",
    "print(clf.predict(x_test))"
   ]
  },
  {
   "cell_type": "code",
   "execution_count": null,
   "metadata": {},
   "outputs": [],
   "source": [
    "test_labels"
   ]
  },
  {
   "cell_type": "code",
   "execution_count": null,
   "metadata": {},
   "outputs": [],
   "source": [
    "train_images = np.loadtxt('data/train_images.txt')\n",
    "train_labels = np.loadtxt('data/train_labels.txt','float').astype(np.int)\n",
    "test_images = np.loadtxt('data/test_images.txt')\n",
    "test_labels = np.loadtxt('data/test_labels.txt', 'float').astype(np.int)\n",
    "\n",
    "def values_to_bins (data_matrix, num_bins):\n",
    "    bins = np.linspace(start = 0, stop = 255, num = num_bins)\n",
    "    return np.digitize(data_matrix, bins) - 1\n",
    "\n",
    "x_train = values_to_bins(train_images, 7)\n",
    "x_test = values_to_bins(test_images, 7)\n",
    "\n",
    "from sklearn.naive_bayes import MultinomialNB\n",
    "\n",
    "clf = MultinomialNB()\n",
    "clf.fit(x_train, train_labels)\n",
    "print(clf.score(x_test, test_labels))\n",
    "print(clf.predict(x_test))\n",
    "\n",
    "for nr in np.argwhere(clf.predict(x_test)==test_labels):\n",
    "    "
   ]
  },
  {
   "cell_type": "code",
   "execution_count": null,
   "metadata": {},
   "outputs": [],
   "source": [
    "test_preds = NB.predict(test_to_bins)"
   ]
  },
  {
   "cell_type": "code",
   "execution_count": null,
   "metadata": {
    "tags": [
     "outputPrepend"
    ]
   },
   "outputs": [],
   "source": [
    "indexes = np.argwhere(clf.predict(x_test) != test_labels)\n",
    "for i in indexes[:10]:\n",
    "    print (i, test_preds[i], test_labels[i])"
   ]
  },
  {
   "cell_type": "code",
   "execution_count": null,
   "metadata": {},
   "outputs": [],
   "source": [
    "indexes = np.argwhere(clf.predict(x_test) != test_labels)\n",
    "for i in indexes[:10]:\n",
    "    print (i[0], test_preds[i][0], test_labels[i][0])\n",
    "    plt.imshow(x_test[i].reshape((28, 28)), cmap='gray')\n",
    "    plt.show()"
   ]
  },
  {
   "cell_type": "code",
   "execution_count": null,
   "metadata": {},
   "outputs": [],
   "source": [
    "c = 10\n",
    "for i in range(len(test_labels)):\n",
    "    print(test_labels[0])\n",
    "    if test_labels[i][0] == test_preds[i][0]:\n",
    "        continue\n",
    "    plt.title(str(test_preds[i][0]) + ' ' + str(test_labels[i][0]))\n",
    "    plt.imshow(x_test[i].reshape((28, 28)), cmap='gray')\n",
    "    plt.show()\n",
    "    c -= 1\n",
    "    if c == 0:\n",
    "        break"
   ]
  },
  {
   "cell_type": "code",
   "execution_count": null,
   "metadata": {},
   "outputs": [],
   "source": [
    "test_preds"
   ]
  },
  {
   "cell_type": "code",
   "execution_count": null,
   "metadata": {},
   "outputs": [],
   "source": [
    "from sklearn.metrics import confusion_matrix"
   ]
  },
  {
   "cell_type": "code",
   "execution_count": null,
   "metadata": {},
   "outputs": [],
   "source": [
    "matrics = np.zeros(100).reshape((10,10))\n",
    "for i in range(len(test_labels)):\n",
    "    matrics[test_labels[i], test_preds[i]] += 1\n",
    "print (np.sum(matrics == confusion_matrix(test_labels, test_preds)) == 100)\n",
    "matrics"
   ]
  },
  {
   "cell_type": "code",
   "execution_count": 4,
   "metadata": {},
   "outputs": [],
   "source": [
    "import numpy as np"
   ]
  },
  {
   "cell_type": "code",
   "execution_count": null,
   "metadata": {},
   "outputs": [],
   "source": [
    "def KnnClassifier:\n",
    "    def __init__(self, train_images, train_labels):\n",
    "    self.train_images = train_images\n",
    "    self.train_labels = train_labels \n",
    "\n",
    "    def L1 (img1, img2):\n",
    "        return np.sum (abs(img1-img2))\n",
    "\n",
    "    def L2 (img1, img2):\n",
    "        return np.sum((img1-img2)**2)**0.5\n",
    "\n",
    "    def classify_image(self, test_image, num_neighbors = 3, metric ='l2'):\n",
    "        L = L2 if metric == 'l2' else L1\n",
    "        dist = []\n",
    "        for i in range(len(train_images)):\n",
    "            img = self.train_images[i]\n",
    "            label = self.train_labels[i]\n",
    "            dist.append ()\n",
    "            "
   ]
  },
  {
   "cell_type": "code",
   "execution_count": 5,
   "metadata": {},
   "outputs": [
    {
     "output_type": "execute_result",
     "data": {
      "text/plain": "array([10, 20, 30])"
     },
     "metadata": {},
     "execution_count": 5
    }
   ],
   "source": [
    "img1 = np.array([10, 20, 30])\n",
    "img1"
   ]
  },
  {
   "cell_type": "code",
   "execution_count": 6,
   "metadata": {},
   "outputs": [
    {
     "output_type": "execute_result",
     "data": {
      "text/plain": "array([30, 20, 10])"
     },
     "metadata": {},
     "execution_count": 6
    }
   ],
   "source": [
    "img2 = np.array([30, 20, 10])\n",
    "img2"
   ]
  },
  {
   "cell_type": "code",
   "execution_count": 13,
   "metadata": {},
   "outputs": [
    {
     "output_type": "execute_result",
     "data": {
      "text/plain": "28.284271247461902"
     },
     "metadata": {},
     "execution_count": 13
    }
   ],
   "source": [
    "np.argmax"
   ]
  },
  {
   "cell_type": "code",
   "execution_count": 18,
   "metadata": {},
   "outputs": [
    {
     "output_type": "stream",
     "name": "stdout",
     "text": "a\n"
    }
   ],
   "source": [
    "my_chr_list = [\"a\",\"a\",\"a\", \"b\", \"c\", \"b\",\"d\", \"d\"]\n",
    "value, count = np.unique (my_chr_list, return_counts=True)\n",
    "print(value[np.argmax(count)])"
   ]
  },
  {
   "cell_type": "code",
   "execution_count": 26,
   "metadata": {},
   "outputs": [
    {
     "output_type": "stream",
     "name": "stdout",
     "text": "0.898\n"
    }
   ],
   "source": [
    "def L1(img, imgs):\n",
    "    return np.sum(np.abs(img - imgs), axis=1)\n",
    "\n",
    "def L2(img, imgs):\n",
    "    return np.sqrt(np.sum(np.power(img - imgs, 2), axis=1))\n",
    "\n",
    "class KnnClassifier:\n",
    "    def __init__(self, train_images, train_labels):\n",
    "        self.train_images = train_images\n",
    "        self.train_labels = train_labels\n",
    "\n",
    "    def classify_image(self, test_image, num_neighbors=3, metric='l2'):\n",
    "        # 1. Calculati distanta de la test_image la toate train_images -> [201, 2001, 842, 723, ...] (np.linalg.norm - calculeaza norma L1 sau L2 sau altele)\n",
    "        if metric == 'l1':\n",
    "            dists = L1(test_image, self.train_images)\n",
    "        else:\n",
    "            dists = L2(test_image, self.train_images)\n",
    "        # 2. Sortam arrayul de distante crescator pastrand indicii (np.argsort - returneaza indicii in ordinea valorilor sortate)\n",
    "        indexes = np.argsort(dists)\n",
    "        # 3. Luam primii num_neighbours din array-ul sortat -> [3, 3, 2]\n",
    "        k_dists = indexes[:num_neighbors]\n",
    "        # 4. Numaram clasa dominanta -> 3  (np.bincount - numara cate aparitii de fiecare valoare exista) (np.argmax - returneaza indicele cu valoarea cea mai mare)\n",
    "        k_classes = self.train_labels[k_dists]\n",
    "        k_votes = np.bincount(k_classes)\n",
    "        return np.argmax(k_votes)\n",
    "\n",
    "    def predict(self, test_images, num_neighbors=3, metric='l2'):\n",
    "        preds = []\n",
    "        for img in test_images:\n",
    "            preds.append (self.classify_image(img, num_neighbors, metric))\n",
    "        return preds\n",
    "\n",
    "    def score(self, test_images, test_labels, num_neighbors=3, metric='l2'):\n",
    "        preds = self.predict(test_images, num_neighbors, metric)\n",
    "        return (preds == test_labels).mean()\n",
    "\n",
    "knn = KnnClassifier(train_images, train_labels)\n",
    "print(knn.score(test_images, test_labels))"
   ]
  },
  {
   "cell_type": "code",
   "execution_count": 28,
   "metadata": {},
   "outputs": [
    {
     "output_type": "execute_result",
     "data": {
      "text/plain": "0.898"
     },
     "metadata": {},
     "execution_count": 28
    }
   ],
   "source": [
    "from sklearn.neighbors import KNeighborsClassifier\n",
    "knn = KNeighborsClassifier(3, metric='l2')\n",
    "knn.fit(train_images, train_labels)\n",
    "knn.score(test_images, test_labels)"
   ]
  }
 ],
 "metadata": {
  "kernelspec": {
   "display_name": "Python 3",
   "language": "python",
   "name": "python3"
  },
  "language_info": {
   "codemirror_mode": {
    "name": "ipython",
    "version": 3
   },
   "file_extension": ".py",
   "mimetype": "text/x-python",
   "name": "python",
   "nbconvert_exporter": "python",
   "pygments_lexer": "ipython3",
   "version": "3.7.4-final"
  }
 },
 "nbformat": 4,
 "nbformat_minor": 2
}
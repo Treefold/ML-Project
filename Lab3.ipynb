{
 "cells": [
  {
   "cell_type": "code",
   "execution_count": 1,
   "metadata": {},
   "outputs": [
    {
     "output_type": "display_data",
     "data": {
      "text/plain": "<Figure size 640x480 with 1 Axes>"
     },
     "metadata": {}
    }
   ],
   "source": []
  },
  {
   "cell_type": "code",
   "execution_count": 3,
   "metadata": {},
   "outputs": [
    {
     "output_type": "display_data",
     "data": {
      "text/plain": "<Figure size 432x288 with 1 Axes>",
      "image/png": "[encoded data removed]"
     },
     "metadata": {
      "needs_background": "light"
     }
    }
   ],
   "source": [
    "import numpy as np\n",
    "import matplotlib.pyplot as plt\n",
    "train_images = np.loadtxt('data/train_images.txt')\n",
    "train_labels = np.loadtxt('data/train_labels.txt', 'float').astype(np.int)\n",
    "\n",
    " # tipul de date int\n",
    "image = train_images[0, :] # prima imagine\n",
    "image = np.reshape(image, (28, 28))\n",
    "plt.title(train_labels[0])\n",
    "plt.imshow(image.astype(np.uint8), cmap='gray')\n",
    "plt.show()"
   ]
  },
  {
   "cell_type": "code",
   "execution_count": 4,
   "metadata": {},
   "outputs": [],
   "source": [
    "from sklearn.naive_bayes import MultinomialNB"
   ]
  },
  {
   "cell_type": "code",
   "execution_count": 5,
   "metadata": {},
   "outputs": [],
   "source": [
    "naive_bayes_model = MultinomialNB()"
   ]
  },
  {
   "cell_type": "code",
   "execution_count": 22,
   "metadata": {},
   "outputs": [
    {
     "output_type": "stream",
     "name": "stdout",
     "text": "0.842\n"
    }
   ],
   "source": [
    "train_images = np.loadtxt('data/train_images.txt')\n",
    "train_labels = np.loadtxt('data/train_labels.txt','float').astype(np.int)\n",
    "test_images = np.loadtxt('data/test_images.txt')\n",
    "test_labels = np.loadtxt('data/test_labels.txt', 'float').astype(np.int)\n",
    "\n",
    "def values_to_bins (data_matrix, num_bins):\n",
    "    bins = np.linspace(start = 0, stop = 255, num = num_bins)\n",
    "    return np.digitize(data_matrix, bins) - 1\n",
    "n = 7\n",
    "train_to_bins = values_to_bins(train_images, 7)\n",
    "test_to_bins = values_to_bins(test_images, 7)\n",
    "NB = MultinomialNB()\n",
    "NB.fit(train_to_bins, train_labels)\n",
    "print(NB.score(test_to_bins, test_labels))"
   ]
  },
  {
   "cell_type": "code",
   "execution_count": 13,
   "metadata": {},
   "outputs": [
    {
     "output_type": "execute_result",
     "data": {
      "text/plain": "array([], shape=(0, 1), dtype=int64)"
     },
     "metadata": {},
     "execution_count": 13
    }
   ],
   "source": [
    "pritnnp.argwhere(test_to_bins==test_labels)"
   ]
  },
  {
   "cell_type": "code",
   "execution_count": 24,
   "metadata": {},
   "outputs": [
    {
     "output_type": "error",
     "ename": "NameError",
     "evalue": "name 'x_train' is not defined",
     "traceback": [
      "\u001b[1;31m---------------------------------------------------------------------------\u001b[0m",
      "\u001b[1;31mNameError\u001b[0m                                 Traceback (most recent call last)",
      "\u001b[1;32m<ipython-input-24-2a01268ef7ce>\u001b[0m in \u001b[0;36m<module>\u001b[1;34m\u001b[0m\n\u001b[0;32m      2\u001b[0m \u001b[1;33m\u001b[0m\u001b[0m\n\u001b[0;32m      3\u001b[0m \u001b[0mclf\u001b[0m \u001b[1;33m=\u001b[0m \u001b[0mMultinomialNB\u001b[0m\u001b[1;33m(\u001b[0m\u001b[1;33m)\u001b[0m\u001b[1;33m\u001b[0m\u001b[1;33m\u001b[0m\u001b[0m\n\u001b[1;32m----> 4\u001b[1;33m \u001b[0mclf\u001b[0m\u001b[1;33m.\u001b[0m\u001b[0mfit\u001b[0m\u001b[1;33m(\u001b[0m\u001b[0mx_train\u001b[0m\u001b[1;33m,\u001b[0m \u001b[0mtrain_labels\u001b[0m\u001b[1;33m)\u001b[0m\u001b[1;33m\u001b[0m\u001b[1;33m\u001b[0m\u001b[0m\n\u001b[0m\u001b[0;32m      5\u001b[0m \u001b[0mprint\u001b[0m\u001b[1;33m(\u001b[0m\u001b[0mclf\u001b[0m\u001b[1;33m.\u001b[0m\u001b[0mscore\u001b[0m\u001b[1;33m(\u001b[0m\u001b[0mx_test\u001b[0m\u001b[1;33m,\u001b[0m \u001b[0mtest_labels\u001b[0m\u001b[1;33m)\u001b[0m\u001b[1;33m)\u001b[0m\u001b[1;33m\u001b[0m\u001b[1;33m\u001b[0m\u001b[0m\n\u001b[0;32m      6\u001b[0m \u001b[0mprint\u001b[0m\u001b[1;33m(\u001b[0m\u001b[0mclf\u001b[0m\u001b[1;33m.\u001b[0m\u001b[0mpredict\u001b[0m\u001b[1;33m(\u001b[0m\u001b[0mx_test\u001b[0m\u001b[1;33m)\u001b[0m\u001b[1;33m)\u001b[0m\u001b[1;33m\u001b[0m\u001b[1;33m\u001b[0m\u001b[0m\n",
      "\u001b[1;31mNameError\u001b[0m: name 'x_train' is not defined"
     ]
    }
   ],
   "source": [
    "from sklearn.naive_bayes import MultinomialNB\n",
    "\n",
    "clf = MultinomialNB()\n",
    "clf.fit(x_train, train_labels)\n",
    "print(clf.score(x_test, test_labels))\n",
    "print(clf.predict(x_test))"
   ]
  },
  {
   "cell_type": "code",
   "execution_count": 17,
   "metadata": {},
   "outputs": [
    {
     "output_type": "execute_result",
     "data": {
      "text/plain": "array([2, 7, 3, 1, 2, 2, 0, 5, 1, 4, 7, 3, 2, 6, 8, 3, 8, 9, 9, 1, 8, 2,\n       0, 0, 5, 4, 6, 2, 6, 7, 3, 2, 4, 7, 6, 6, 1, 7, 5, 2, 0, 1, 1, 2,\n       2, 1, 3, 7, 9, 6, 7, 6, 7, 7, 3, 7, 3, 1, 2, 1, 7, 8, 0, 1, 8, 3,\n       1, 6, 0, 5, 8, 6, 6, 3, 2, 9, 7, 0, 9, 1, 4, 4, 3, 5, 1, 4, 0, 5,\n       7, 9, 0, 5, 2, 3, 4, 4, 4, 9, 5, 0, 0, 6, 8, 4, 6, 0, 7, 0, 8, 0,\n       7, 5, 3, 0, 5, 7, 5, 3, 8, 7, 3, 9, 9, 4, 5, 9, 3, 0, 6, 1, 0, 9,\n       2, 6, 6, 3, 7, 0, 2, 8, 7, 5, 4, 2, 1, 3, 6, 5, 5, 5, 4, 3, 0, 0,\n       3, 6, 3, 2, 0, 1, 6, 4, 3, 2, 5, 3, 8, 4, 7, 8, 5, 5, 7, 4, 2, 8,\n       0, 0, 0, 3, 1, 6, 6, 2, 5, 2, 9, 2, 2, 3, 5, 8, 7, 0, 0, 3, 7, 8,\n       6, 7, 8, 7, 0, 5, 3, 2, 8, 2, 4, 7, 8, 4, 4, 4, 5, 2, 7, 6, 3, 9,\n       2, 5, 6, 0, 1, 9, 6, 0, 2, 5, 9, 5, 8, 9, 1, 9, 6, 8, 6, 9, 4, 4,\n       5, 2, 4, 5, 5, 8, 3, 8, 8, 8, 1, 0, 4, 8, 2, 9, 3, 4, 9, 5, 4, 0,\n       1, 7, 7, 4, 5, 0, 1, 9, 7, 5, 0, 9, 2, 1, 2, 8, 9, 5, 8, 7, 6, 9,\n       0, 5, 3, 3, 5, 6, 6, 5, 8, 2, 9, 3, 6, 1, 1, 7, 0, 8, 1, 3, 8, 1,\n       0, 0, 8, 0, 0, 1, 1, 6, 9, 2, 4, 2, 7, 0, 8, 8, 4, 1, 8, 2, 4, 2,\n       0, 4, 6, 1, 8, 3, 4, 0, 0, 4, 6, 7, 1, 2, 1, 3, 2, 5, 5, 3, 2, 9,\n       1, 6, 8, 8, 9, 4, 1, 3, 7, 0, 5, 4, 3, 9, 1, 5, 1, 2, 4, 2, 6, 2,\n       2, 3, 4, 2, 7, 1, 3, 7, 6, 5, 2, 7, 5, 0, 8, 4, 9, 9, 9, 6, 2, 2,\n       1, 5, 6, 6, 7, 9, 9, 3, 5, 4, 7, 1, 3, 5, 5, 6, 5, 9, 0, 0, 7, 2,\n       2, 9, 2, 7, 3, 3, 7, 2, 0, 9, 7, 0, 5, 1, 7, 4, 4, 2, 2, 7, 3, 8,\n       2, 9, 3, 9, 3, 0, 8, 9, 4, 3, 4, 3, 1, 1, 2, 2, 4, 4, 6, 6, 0, 1,\n       2, 8, 6, 1, 7, 6, 1, 1, 4, 3, 1, 1, 6, 8, 7, 8, 5, 1, 9, 8, 6, 7,\n       3, 3, 0, 6, 0, 8, 5, 1, 5, 7, 9, 3, 1, 8, 6, 5])"
     },
     "metadata": {},
     "execution_count": 17
    }
   ],
   "source": [
    "test_labels"
   ]
  },
  {
   "cell_type": "code",
   "execution_count": 26,
   "metadata": {},
   "outputs": [
    {
     "output_type": "stream",
     "name": "stdout",
     "text": "0.842\n[2 7 3 1 2 2 0 8 1 4 7 3 2 0 8 3 8 9 9 1 8 2 0 0 5 9 6 2 6 7 3 2 4 9 6 6 1\n 7 5 3 0 1 8 2 2 1 3 7 9 6 7 6 7 7 9 7 3 1 2 1 7 8 0 8 8 3 1 6 0 5 8 8 6 3\n 2 4 4 0 9 1 9 4 3 3 1 4 0 5 7 9 0 5 2 3 4 4 4 9 5 0 0 6 8 4 6 0 7 0 8 8 7\n 9 3 0 5 9 5 3 5 7 3 9 9 4 8 9 3 0 8 1 0 9 2 6 6 3 7 0 2 8 7 0 4 2 1 3 1 3\n 5 3 9 3 0 0 3 6 3 2 0 1 6 4 3 2 8 2 4 4 7 8 5 3 7 4 2 8 0 0 0 3 1 6 6 2 5\n 2 9 2 6 3 5 2 7 0 0 3 7 8 6 7 8 7 0 5 3 2 8 2 4 7 8 9 4 9 8 0 7 6 3 9 2 5\n 6 0 1 9 6 0 2 5 9 5 8 4 1 4 6 2 6 9 4 9 5 2 4 5 3 8 3 8 8 8 1 0 4 8 8 9 3\n 4 4 8 9 0 1 7 7 4 5 0 1 3 7 5 6 9 2 1 2 8 9 6 8 4 6 9 0 5 3 3 5 6 6 5 8 2\n 9 3 6 1 1 7 0 8 8 3 2 1 0 0 8 0 0 1 1 6 9 2 4 2 7 0 8 8 4 1 7 2 4 2 0 9 6\n 1 3 9 9 0 0 4 6 7 1 0 1 3 2 5 5 3 2 9 1 6 6 8 9 4 1 3 9 0 5 4 3 4 1 3 1 2\n 4 2 4 2 2 3 4 4 7 1 3 7 6 5 7 9 3 0 8 4 9 9 9 6 2 2 1 5 6 6 7 9 9 3 5 4 1\n 1 3 5 5 6 5 9 0 0 9 2 2 9 2 7 3 9 7 2 0 9 7 0 3 1 7 8 4 2 2 7 3 3 2 9 3 2\n 3 0 9 9 9 3 4 3 1 1 2 2 4 8 6 6 0 1 2 1 6 1 7 6 1 1 4 3 1 1 6 8 7 8 5 1 9\n 8 6 7 3 3 0 6 0 3 5 1 3 9 9 3 8 8 6 5]\n"
    }
   ],
   "source": [
    "train_images = np.loadtxt('data/train_images.txt')\n",
    "train_labels = np.loadtxt('data/train_labels.txt','float').astype(np.int)\n",
    "test_images = np.loadtxt('data/test_images.txt')\n",
    "test_labels = np.loadtxt('data/test_labels.txt', 'float').astype(np.int)\n",
    "\n",
    "def values_to_bins (data_matrix, num_bins):\n",
    "    bins = np.linspace(start = 0, stop = 255, num = num_bins)\n",
    "    return np.digitize(data_matrix, bins) - 1\n",
    "\n",
    "x_train = values_to_bins(train_images, 7)\n",
    "x_test = values_to_bins(test_images, 7)\n",
    "\n",
    "from sklearn.naive_bayes import MultinomialNB\n",
    "\n",
    "clf = MultinomialNB()\n",
    "clf.fit(x_train, train_labels)\n",
    "print(clf.score(x_test, test_labels))\n",
    "print(clf.predict(x_test))\n",
    "\n",
    "for nr in np.argwhere(clf.predict(x_test)==test_labels):\n",
    "    "
   ]
  },
  {
   "cell_type": "code",
   "execution_count": 28,
   "metadata": {},
   "outputs": [],
   "source": [
    "test_preds = NB.predict(test_to_bins)"
   ]
  },
  {
   "cell_type": "code",
   "execution_count": 30,
   "metadata": {
    "tags": [
     "outputPrepend"
    ]
   },
   "outputs": [
    {
     "output_type": "stream",
     "name": "stdout",
     "text": "[7] [8] [5]\n[13] [0] [6]\n[25] [9] [4]\n[33] [9] [7]\n[39] [3] [2]\n[42] [8] [1]\n[54] [9] [3]\n[63] [8] [1]\n[71] [8] [6]\n[75] [4] [9]\n"
    }
   ],
   "source": [
    "indexes = np.argwhere(clf.predict(x_test) != test_labels)\n",
    "for i in indexes[:10]:\n",
    "    print (i, test_preds[i], test_labels[i])"
   ]
  },
  {
   "cell_type": "code",
   "execution_count": 36,
   "metadata": {},
   "outputs": [
    {
     "output_type": "stream",
     "name": "stdout",
     "text": "7 8 5\n"
    },
    {
     "output_type": "display_data",
     "data": {
      "text/plain": "<Figure size 432x288 with 1 Axes>",
      "image/png": "[encoded data removed]"
     },
     "metadata": {
      "needs_background": "light"
     }
    },
    {
     "output_type": "stream",
     "name": "stdout",
     "text": "13 0 6\n"
    },
    {
     "output_type": "display_data",
     "data": {
      "text/plain": "<Figure size 432x288 with 1 Axes>",
      "image/png": "[encoded data removed]"
     },
     "metadata": {
      "needs_background": "light"
     }
    },
    {
     "output_type": "stream",
     "name": "stdout",
     "text": "25 9 4\n"
    },
    {
     "output_type": "display_data",
     "data": {
      "text/plain": "<Figure size 432x288 with 1 Axes>",
      "image/png": "[encoded data removed]"
     },
     "metadata": {
      "needs_background": "light"
     }
    },
    {
     "output_type": "stream",
     "name": "stdout",
     "text": "33 9 7\n"
    },
    {
     "output_type": "display_data",
     "data": {
      "text/plain": "<Figure size 432x288 with 1 Axes>",
      "image/png": "[encoded data removed]"
     },
     "metadata": {
      "needs_background": "light"
     }
    },
    {
     "output_type": "stream",
     "name": "stdout",
     "text": "39 3 2\n"
    },
    {
     "output_type": "display_data",
     "data": {
      "text/plain": "<Figure size 432x288 with 1 Axes>",
      "image/png": "[encoded data removed]"
     },
     "metadata": {
      "needs_background": "light"
     }
    },
    {
     "output_type": "stream",
     "name": "stdout",
     "text": "42 8 1\n"
    },
    {
     "output_type": "display_data",
     "data": {
      "text/plain": "<Figure size 432x288 with 1 Axes>",
      "image/png": "[encoded data removed]"
     },
     "metadata": {
      "needs_background": "light"
     }
    },
    {
     "output_type": "stream",
     "name": "stdout",
     "text": "54 9 3\n"
    },
    {
     "output_type": "display_data",
     "data": {
      "text/plain": "<Figure size 432x288 with 1 Axes>",
      "image/png": "[encoded data removed]"
     },
     "metadata": {
      "needs_background": "light"
     }
    },
    {
     "output_type": "stream",
     "name": "stdout",
     "text": "63 8 1\n"
    },
    {
     "output_type": "display_data",
     "data": {
      "text/plain": "<Figure size 432x288 with 1 Axes>",
      "image/png": "[encoded data removed]"
     },
     "metadata": {
      "needs_background": "light"
     }
    },
    {
     "output_type": "stream",
     "name": "stdout",
     "text": "71 8 6\n"
    },
    {
     "output_type": "display_data",
     "data": {
      "text/plain": "<Figure size 432x288 with 1 Axes>",
      "image/png": "[encoded data removed]"
     },
     "metadata": {
      "needs_background": "light"
     }
    },
    {
     "output_type": "stream",
     "name": "stdout",
     "text": "75 4 9\n"
    },
    {
     "output_type": "display_data",
     "data": {
      "text/plain": "<Figure size 432x288 with 1 Axes>",
      "image/png": "[encoded data removed]"
     },
     "metadata": {
      "needs_background": "light"
     }
    }
   ],
   "source": [
    "indexes = np.argwhere(clf.predict(x_test) != test_labels)\n",
    "for i in indexes[:10]:\n",
    "    print (i[0], test_preds[i][0], test_labels[i][0])\n",
    "    plt.imshow(x_test[i].reshape((28, 28)), cmap='gray')\n",
    "    plt.show()"
   ]
  },
  {
   "cell_type": "code",
   "execution_count": null,
   "metadata": {},
   "outputs": [],
   "source": [
    "c = 10\n",
    "for i in range(len(test_labels)):\n",
    "    print(test_labels[0])\n",
    "    if test_labels[i][0] == test_preds[i][0]:\n",
    "        continue\n",
    "    plt.title(str(test_preds[i][0]) + ' ' + str(test_labels[i][0]))\n",
    "    plt.imshow(x_test[i].reshape((28, 28)), cmap='gray')\n",
    "    plt.show()\n",
    "    c -= 1\n",
    "    if c == 0:\n",
    "        break"
   ]
  },
  {
   "cell_type": "code",
   "execution_count": 42,
   "metadata": {},
   "outputs": [
    {
     "output_type": "execute_result",
     "data": {
      "text/plain": "array([2, 7, 3, 1, 2, 2, 0, 8, 1, 4, 7, 3, 2, 0, 8, 3, 8, 9, 9, 1, 8, 2,\n       0, 0, 5, 9, 6, 2, 6, 7, 3, 2, 4, 9, 6, 6, 1, 7, 5, 3, 0, 1, 8, 2,\n       2, 1, 3, 7, 9, 6, 7, 6, 7, 7, 9, 7, 3, 1, 2, 1, 7, 8, 0, 8, 8, 3,\n       1, 6, 0, 5, 8, 8, 6, 3, 2, 4, 4, 0, 9, 1, 9, 4, 3, 3, 1, 4, 0, 5,\n       7, 9, 0, 5, 2, 3, 4, 4, 4, 9, 5, 0, 0, 6, 8, 4, 6, 0, 7, 0, 8, 8,\n       7, 9, 3, 0, 5, 9, 5, 3, 5, 7, 3, 9, 9, 4, 8, 9, 3, 0, 8, 1, 0, 9,\n       2, 6, 6, 3, 7, 0, 2, 8, 7, 0, 4, 2, 1, 3, 1, 3, 5, 3, 9, 3, 0, 0,\n       3, 6, 3, 2, 0, 1, 6, 4, 3, 2, 8, 2, 4, 4, 7, 8, 5, 3, 7, 4, 2, 8,\n       0, 0, 0, 3, 1, 6, 6, 2, 5, 2, 9, 2, 6, 3, 5, 2, 7, 0, 0, 3, 7, 8,\n       6, 7, 8, 7, 0, 5, 3, 2, 8, 2, 4, 7, 8, 9, 4, 9, 8, 0, 7, 6, 3, 9,\n       2, 5, 6, 0, 1, 9, 6, 0, 2, 5, 9, 5, 8, 4, 1, 4, 6, 2, 6, 9, 4, 9,\n       5, 2, 4, 5, 3, 8, 3, 8, 8, 8, 1, 0, 4, 8, 8, 9, 3, 4, 4, 8, 9, 0,\n       1, 7, 7, 4, 5, 0, 1, 3, 7, 5, 6, 9, 2, 1, 2, 8, 9, 6, 8, 4, 6, 9,\n       0, 5, 3, 3, 5, 6, 6, 5, 8, 2, 9, 3, 6, 1, 1, 7, 0, 8, 8, 3, 2, 1,\n       0, 0, 8, 0, 0, 1, 1, 6, 9, 2, 4, 2, 7, 0, 8, 8, 4, 1, 7, 2, 4, 2,\n       0, 9, 6, 1, 3, 9, 9, 0, 0, 4, 6, 7, 1, 0, 1, 3, 2, 5, 5, 3, 2, 9,\n       1, 6, 6, 8, 9, 4, 1, 3, 9, 0, 5, 4, 3, 4, 1, 3, 1, 2, 4, 2, 4, 2,\n       2, 3, 4, 4, 7, 1, 3, 7, 6, 5, 7, 9, 3, 0, 8, 4, 9, 9, 9, 6, 2, 2,\n       1, 5, 6, 6, 7, 9, 9, 3, 5, 4, 1, 1, 3, 5, 5, 6, 5, 9, 0, 0, 9, 2,\n       2, 9, 2, 7, 3, 9, 7, 2, 0, 9, 7, 0, 3, 1, 7, 8, 4, 2, 2, 7, 3, 3,\n       2, 9, 3, 2, 3, 0, 9, 9, 9, 3, 4, 3, 1, 1, 2, 2, 4, 8, 6, 6, 0, 1,\n       2, 1, 6, 1, 7, 6, 1, 1, 4, 3, 1, 1, 6, 8, 7, 8, 5, 1, 9, 8, 6, 7,\n       3, 3, 0, 6, 0, 3, 5, 1, 3, 9, 9, 3, 8, 8, 6, 5])"
     },
     "metadata": {},
     "execution_count": 42
    }
   ],
   "source": [
    "test_preds"
   ]
  },
  {
   "cell_type": "code",
   "execution_count": 57,
   "metadata": {},
   "outputs": [],
   "source": [
    "from sklearn.metrics import confusion_matrix"
   ]
  },
  {
   "cell_type": "code",
   "execution_count": 59,
   "metadata": {},
   "outputs": [
    {
     "output_type": "stream",
     "name": "stdout",
     "text": "True\n"
    },
    {
     "output_type": "execute_result",
     "data": {
      "text/plain": "array([[51.,  0.,  0.,  0.,  0.,  0.,  1.,  0.,  1.,  0.],\n       [ 0., 48.,  0.,  0.,  0.,  0.,  0.,  0.,  4.,  0.],\n       [ 2.,  0., 51.,  1.,  1.,  0.,  1.,  1.,  1.,  0.],\n       [ 0.,  0.,  1., 49.,  0.,  0.,  0.,  0.,  0.,  3.],\n       [ 0.,  0.,  0.,  0., 34.,  0.,  0.,  0.,  2., 10.],\n       [ 1.,  0.,  0.,  9.,  0., 35.,  1.,  0.,  5.,  1.],\n       [ 1.,  1.,  0.,  0.,  1.,  0., 43.,  0.,  2.,  0.],\n       [ 0.,  1.,  0.,  0.,  2.,  0.,  0., 41.,  0.,  6.],\n       [ 0.,  1.,  3.,  3.,  1.,  1.,  1.,  1., 34.,  1.],\n       [ 0.,  0.,  1.,  1.,  5.,  0.,  0.,  0.,  0., 35.]])"
     },
     "metadata": {},
     "execution_count": 59
    }
   ],
   "source": [
    "matrics = np.zeros(100).reshape((10,10))\n",
    "for i in range(len(test_labels)):\n",
    "    matrics[test_labels[i], test_preds[i]] += 1\n",
    "print (np.sum(matrics == confusion_matrix(test_labels, test_preds)) == 100)\n",
    "matrics"
   ]
  },
  {
   "cell_type": "code",
   "execution_count": null,
   "metadata": {},
   "outputs": [],
   "source": []
  }
 ],
 "metadata": {
  "kernelspec": {
   "display_name": "Python 3",
   "language": "python",
   "name": "python3"
  },
  "language_info": {
   "codemirror_mode": {
    "name": "ipython",
    "version": 3
   },
   "file_extension": ".py",
   "mimetype": "text/x-python",
   "name": "python",
   "nbconvert_exporter": "python",
   "pygments_lexer": "ipython3",
   "version": "3.7.4-final"
  }
 },
 "nbformat": 4,
 "nbformat_minor": 2
}
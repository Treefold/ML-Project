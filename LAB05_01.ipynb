{
  "cells": [
    {
      "cell_type": "code",
      "metadata": {
        "id": "OfEnQJ0s1aJK",
        "colab_type": "code",
        "outputId": "d333474c-bbf9-4c71-fc73-0e9dd328db46",
        "colab": {
          "base_uri": "https://localhost:8080/",
          "height": 204
        }
      },
      "source": [
        "# !wget https://fmi-unibuc-ia.github.io/ia/Data/data_lab5.zip"
      ],
      "execution_count": 0,
      "outputs": [
        {
          "output_type": "stream",
          "text": [
            "--2020-05-06 07:05:18--  https://fmi-unibuc-ia.github.io/ia/Data/data_lab5.zip\n",
            "Resolving fmi-unibuc-ia.github.io (fmi-unibuc-ia.github.io)... 185.199.109.153, 185.199.108.153, 185.199.110.153, ...\n",
            "Connecting to fmi-unibuc-ia.github.io (fmi-unibuc-ia.github.io)|185.199.109.153|:443... connected.\n",
            "HTTP request sent, awaiting response... 200 OK\n",
            "Length: 503740 (492K) [application/zip]\n",
            "Saving to: ‘data_lab5.zip’\n",
            "\n",
            "\rdata_lab5.zip         0%[                    ]       0  --.-KB/s               \rdata_lab5.zip       100%[===================>] 491.93K  --.-KB/s    in 0.08s   \n",
            "\n",
            "2020-05-06 07:05:20 (5.95 MB/s) - ‘data_lab5.zip’ saved [503740/503740]\n",
            "\n"
          ],
          "name": "stdout"
        }
      ]
    },
    {
      "cell_type": "code",
      "metadata": {
        "id": "qU-ofyyp1bFY",
        "colab_type": "code",
        "outputId": "f3e767bf-e436-4a9c-8e1f-cf1739a2b592",
        "colab": {
          "base_uri": "https://localhost:8080/",
          "height": 102
        }
      },
      "source": [
        "# !unzip data_lab5.zip"
      ],
      "execution_count": 0,
      "outputs": [
        {
          "output_type": "stream",
          "text": [
            "Archive:  data_lab5.zip\n",
            "  inflating: data/test_labels.npy    \n",
            "  inflating: data/test_sentences.npy  \n",
            "  inflating: data/training_labels.npy  \n",
            "  inflating: data/training_sentences.npy  \n"
          ],
          "name": "stdout"
        }
      ]
    },
    {
      "cell_type": "code",
      "metadata": {
        "id": "QCMbqkv10jvM",
        "colab_type": "code",
        "colab": {}
      },
      "source": [
        "import numpy as np"
      ],
      "execution_count": 1,
      "outputs": []
    },
    {
      "cell_type": "code",
      "metadata": {
        "id": "P2w3VMtO1hpy",
        "colab_type": "code",
        "colab": {}
      },
      "source": [
        "train_data = np.load('data-lab5/training_sentences.npy', allow_pickle=True)\n",
        "train_labels    = np.load('data-lab5/training_labels.npy', allow_pickle=True).astype(np.bool)\n",
        "test_data  = np.load('data-lab5/test_sentences.npy', allow_pickle=True)\n",
        "test_labels     = np.load('data-lab5/test_labels.npy', allow_pickle=True).astype(np.bool)"
      ],
      "execution_count": 5,
      "outputs": []
    },
    {
      "cell_type": "code",
      "metadata": {
        "id": "PiFq0ZMx1ycv",
        "colab_type": "code",
        "outputId": "10a10e71-d5a3-4ac9-d672-78dbf4f07fff",
        "colab": {
          "base_uri": "https://localhost:8080/",
          "height": 34
        }
      },
      "source": [
        "train_data[0]"
      ],
      "execution_count": 6,
      "outputs": [
        {
          "output_type": "execute_result",
          "data": {
            "text/plain": "['Probably', 'not', 'still', 'going', 'over', 'some', 'stuff', 'here']"
          },
          "metadata": {},
          "execution_count": 6
        }
      ]
    },
    {
      "cell_type": "code",
      "metadata": {
        "id": "ttOBgG5K1hsK",
        "colab_type": "code",
        "outputId": "811b683a-3922-4d96-9883-9e8cd16c6cd2",
        "colab": {
          "base_uri": "https://localhost:8080/",
          "height": 224
        }
      },
      "source": [
        "train_data[:10]"
      ],
      "execution_count": 7,
      "outputs": [
        {
          "output_type": "execute_result",
          "data": {
            "text/plain": "array([list(['Probably', 'not', 'still', 'going', 'over', 'some', 'stuff', 'here']),\n       list(['I', 'HAVE', 'A', 'DATE', 'ON', 'SUNDAY', 'WITH', 'WILL']),\n       list(['Thanks', '4', 'your', 'continued', 'support', 'Your', 'question', 'this', 'week', 'will', 'enter', 'u', 'in2', 'our', 'draw', '4', 'Â£100', 'cash', 'Name', 'the', 'NEW', 'US', 'President', 'txt', 'ans', 'to', '80082']),\n       list(['Dear', '0776xxxxxxx', 'Uve', 'been', 'invited', 'to', 'XCHAT', 'This', 'is', 'our', 'final', 'attempt', 'to', 'contact', 'u', 'Txt', 'CHAT', 'to', '86688', '150pMsgrcvdHGSuite3422LandsRowW1J6HL', 'LDN', '18yrs']),\n       list(['I', 'sent', 'my', 'scores', 'to', 'sophas', 'and', 'i', 'had', 'to', 'do', 'secondary', 'application', 'for', 'a', 'few', 'schools', 'I', 'think', 'if', 'you', 'are', 'thinking', 'of', 'applying', 'do', 'a', 'research', 'on', 'cost', 'also', 'Contact', 'joke', 'ogunrinde', 'her', 'school', 'is', 'one', 'me', 'the', 'less', 'expensive', 'ones']),\n       list(['Kothi', 'print', 'out', 'marandratha']),\n       list(['Arun', 'can', 'u', 'transfr', 'me', 'd', 'amt']),\n       list(['I', 'asked', 'you', 'to', 'call', 'him', 'now', 'ok']),\n       list(['Ringtone', 'Club', 'Gr8', 'new', 'polys', 'direct', 'to', 'your', 'mobile', 'every', 'week']),\n       list(['Hello', 'Just', 'got', 'here', 'st', 'andrewsboy', 'its', 'a', 'long', 'way', 'Its', 'cold', 'I', 'will', 'keep', 'you', 'posted'])],\n      dtype=object)"
          },
          "metadata": {},
          "execution_count": 7
        }
      ]
    },
    {
      "cell_type": "code",
      "metadata": {
        "id": "XxbEodfE2hSv",
        "colab_type": "code",
        "outputId": "db54be4f-5e75-4096-c607-d27c52dee1a6",
        "colab": {
          "base_uri": "https://localhost:8080/",
          "height": 34
        }
      },
      "source": [
        "len(train_data)"
      ],
      "execution_count": 8,
      "outputs": [
        {
          "output_type": "execute_result",
          "data": {
            "text/plain": "3734"
          },
          "metadata": {},
          "execution_count": 8
        }
      ]
    },
    {
      "cell_type": "code",
      "metadata": {
        "id": "JsswIxP2-L5F",
        "colab_type": "code",
        "colab": {}
      },
      "source": [
        "from sklearn import preprocessing\n",
        "\n",
        "def normalize_data(train_data, test_data, type=None):\n",
        "    scaler = None\n",
        "    if type == 'standard':\n",
        "        scaler = preprocessing.StandardScaler()\n",
        "\n",
        "    elif type == 'min_max':\n",
        "        scaler = preprocessing.MinMaxScaler()\n",
        "\n",
        "    elif type == 'l1' or type == 'l2':\n",
        "        scaler = preprocessing.Normalizer(norm=type)\n",
        "\n",
        "    if scaler is not None:\n",
        "        scaler.fit(train_data)\n",
        "        scaled_train_data = scaler.transform(train_data)\n",
        "        scaled_test_data = scaler.transform(test_data)\n",
        "        return scaled_train_data, scaled_test_data\n",
        "    else:\n",
        "        return train_data, test_data"
      ],
      "execution_count": 9,
      "outputs": []
    },
    {
      "cell_type": "code",
      "metadata": {
        "id": "wUrqWsbG0oPb",
        "colab_type": "code",
        "colab": {}
      },
      "source": [
        "class BagOfWords:\n",
        "\n",
        "    def __init__(self):\n",
        "        self.vocab = {} # dictionar cuvant -> idx\n",
        "        self.words = [] # lista de cuvinte\n",
        "\n",
        "    def build_vocabulary(self, train_data):\n",
        "        for sentence in train_data:\n",
        "            for word in sentence:\n",
        "                if word not in self.vocab:\n",
        "                    self.vocab[word] = len(self.words)\n",
        "                    self.words.append(word)\n",
        "        return len(self.words)\n",
        "\n",
        "    def get_features(self, data):\n",
        "        result = np.zeros((data.shape[0], len(self.words))) # 3734x9522\n",
        "        for idx, sentence in enumerate(data):\n",
        "            for word in sentence:\n",
        "                if word in self.vocab:\n",
        "                    result[idx, self.vocab[word]] += 1\n",
        "        return result"
      ],
      "execution_count": 10,
      "outputs": []
    },
    {
      "cell_type": "code",
      "metadata": {
        "id": "PTkuxQLk1W-_",
        "colab_type": "code",
        "outputId": "3190099f-0b68-43a1-dc9f-76a160bf0b34",
        "colab": {
          "base_uri": "https://localhost:8080/",
          "height": 34
        }
      },
      "source": [
        "bow = BagOfWords()\n",
        "print(bow.build_vocabulary(train_data))"
      ],
      "execution_count": 11,
      "outputs": [
        {
          "output_type": "stream",
          "name": "stdout",
          "text": "9522\n"
        }
      ]
    },
    {
      "cell_type": "code",
      "metadata": {
        "id": "d4n0e5-_1Zwl",
        "colab_type": "code",
        "outputId": "33462b9c-6d2f-45d2-d7b4-0c380d4ccbea",
        "colab": {
          "base_uri": "https://localhost:8080/",
          "height": 153
        }
      },
      "source": [
        "train_features = bow.get_features(train_data)\n",
        "\n",
        "print(train_features.shape)\n",
        "print(train_features)"
      ],
      "execution_count": 12,
      "outputs": [
        {
          "output_type": "stream",
          "name": "stdout",
          "text": "(3734, 9522)\n[[1. 1. 1. ... 0. 0. 0.]\n [0. 0. 0. ... 0. 0. 0.]\n [0. 0. 0. ... 0. 0. 0.]\n ...\n [0. 0. 0. ... 1. 1. 0.]\n [0. 0. 0. ... 0. 0. 1.]\n [0. 0. 0. ... 0. 0. 0.]]\n"
        }
      ]
    },
    {
      "cell_type": "code",
      "metadata": {
        "id": "ncvr9TZ222mb",
        "colab_type": "code",
        "outputId": "f6f3d34f-88fd-4d77-8b7e-4a312ea91127",
        "colab": {
          "base_uri": "https://localhost:8080/",
          "height": 51
        }
      },
      "source": [
        "print(train_data[0])\n",
        "print(train_features[0][:20])"
      ],
      "execution_count": 13,
      "outputs": [
        {
          "output_type": "stream",
          "name": "stdout",
          "text": "['Probably', 'not', 'still', 'going', 'over', 'some', 'stuff', 'here']\n[1. 1. 1. 1. 1. 1. 1. 1. 0. 0. 0. 0. 0. 0. 0. 0. 0. 0. 0. 0.]\n"
        }
      ]
    },
    {
      "cell_type": "code",
      "metadata": {
        "id": "lbplLUDZ3IuE",
        "colab_type": "code",
        "outputId": "a3db669c-1396-4dae-d84a-38d67f8d7450",
        "colab": {
          "base_uri": "https://localhost:8080/",
          "height": 54
        }
      },
      "source": [
        "print([(x, bow.vocab[x]) for x in train_data[102]])"
      ],
      "execution_count": 14,
      "outputs": [
        {
          "output_type": "stream",
          "name": "stdout",
          "text": "[('Babe', 799), ('U', 168), ('want', 800), ('me', 90), ('dont', 247), ('u', 27), ('baby', 801), ('Im', 334), ('nasty', 802), ('and', 63), ('have', 471), ('a', 70), ('thing', 482), ('4', 17), ('filthyguys', 803), ('Fancy', 804), ('a', 70), ('rude', 805), ('time', 145), ('with', 195), ('a', 70), ('sexy', 806), ('bitch', 807), ('How', 414), ('about', 189), ('we', 268), ('go', 307), ('slo', 808), ('n', 542), ('hard', 809), ('Txt', 53), ('XXX', 810), ('SLO4msgs', 811)]\n"
        }
      ]
    },
    {
      "cell_type": "code",
      "metadata": {
        "id": "xAauu-TI3VLx",
        "colab_type": "code",
        "outputId": "c1e79a75-2749-4965-872f-7ebbb99eaef2",
        "colab": {
          "base_uri": "https://localhost:8080/",
          "height": 153
        }
      },
      "source": [
        "test_features = bow.get_features(test_data)\n",
        "\n",
        "print(test_features.shape)\n",
        "print(test_features)"
      ],
      "execution_count": 15,
      "outputs": [
        {
          "output_type": "stream",
          "name": "stdout",
          "text": "(1840, 9522)\n[[0. 0. 1. ... 0. 0. 0.]\n [0. 0. 0. ... 0. 0. 0.]\n [0. 0. 0. ... 0. 0. 0.]\n ...\n [0. 0. 0. ... 0. 0. 0.]\n [0. 0. 0. ... 0. 0. 0.]\n [0. 0. 0. ... 0. 0. 0.]]\n"
        }
      ]
    },
    {
      "cell_type": "code",
      "metadata": {
        "id": "59Wcj15W39Hf",
        "colab_type": "code",
        "colab": {}
      },
      "source": [
        "norm_train_features, norm_test_features = normalize_data(train_features, test_features, 'l2')"
      ],
      "execution_count": 16,
      "outputs": []
    },
    {
      "cell_type": "code",
      "metadata": {
        "id": "85-Tzio_-75D",
        "colab_type": "code",
        "outputId": "d1bd73e3-edd1-465c-d9b7-00e77c8797e0",
        "colab": {
          "base_uri": "https://localhost:8080/",
          "height": 238
        }
      },
      "source": [
        "norm_train_features"
      ],
      "execution_count": 17,
      "outputs": [
        {
          "output_type": "execute_result",
          "data": {
            "text/plain": "array([[0.35355339, 0.35355339, 0.35355339, ..., 0.        , 0.        ,\n        0.        ],\n       [0.        , 0.        , 0.        , ..., 0.        , 0.        ,\n        0.        ],\n       [0.        , 0.        , 0.        , ..., 0.        , 0.        ,\n        0.        ],\n       ...,\n       [0.        , 0.        , 0.        , ..., 0.19611614, 0.19611614,\n        0.        ],\n       [0.        , 0.        , 0.        , ..., 0.        , 0.        ,\n        0.33333333],\n       [0.        , 0.        , 0.        , ..., 0.        , 0.        ,\n        0.        ]])"
          },
          "metadata": {},
          "execution_count": 17
        }
      ]
    },
    {
      "cell_type": "code",
      "metadata": {
        "id": "DIqO-RIR_DDS",
        "colab_type": "code",
        "outputId": "1f9460e4-2ee5-4cee-8a51-6f85c9225d71",
        "colab": {
          "base_uri": "https://localhost:8080/",
          "height": 136
        }
      },
      "source": [
        "norm_test_features"
      ],
      "execution_count": 18,
      "outputs": [
        {
          "output_type": "execute_result",
          "data": {
            "text/plain": "array([[0. , 0. , 0.5, ..., 0. , 0. , 0. ],\n       [0. , 0. , 0. , ..., 0. , 0. , 0. ],\n       [0. , 0. , 0. , ..., 0. , 0. , 0. ],\n       ...,\n       [0. , 0. , 0. , ..., 0. , 0. , 0. ],\n       [0. , 0. , 0. , ..., 0. , 0. , 0. ],\n       [0. , 0. , 0. , ..., 0. , 0. , 0. ]])"
          },
          "metadata": {},
          "execution_count": 18
        }
      ]
    },
    {
      "cell_type": "code",
      "metadata": {
        "id": "TCJlbuv__UiS",
        "colab_type": "code",
        "outputId": "f1bafbbf-0b0f-4706-b7a5-87376a95693a",
        "colab": {
          "base_uri": "https://localhost:8080/",
          "height": 204
        }
      },
      "source": [
        "# !wget https://fmi-unibuc-ia.github.io/ia/Data/Lab%205%20-%20toy%20example%20-%20SVM.zip"
      ],
      "execution_count": 19,
      "outputs": [
        {
          "output_type": "stream",
          "name": "stderr",
          "text": "'wget' is not recognized as an internal or external command,\noperable program or batch file.\n"
        }
      ]
    },
    {
      "cell_type": "code",
      "metadata": {
        "id": "NKYMPRhb59Jk",
        "colab_type": "code",
        "outputId": "3f76ec2d-fb4a-447b-8853-94276f288dc0",
        "colab": {
          "base_uri": "https://localhost:8080/",
          "height": 85
        }
      },
      "source": [
        "# !unzip 'Lab 5 - toy example - SVM.zip'"
      ],
      "execution_count": 0,
      "outputs": [
        {
          "output_type": "stream",
          "text": [
            "Archive:  Lab 5 - toy example - SVM.zip\n",
            "  inflating: data/svm_train_data.npy  \n",
            "  inflating: data/svm_train_labels.npy  \n",
            "  inflating: Lab 5 - toy example - SVM.ipynb  \n"
          ],
          "name": "stdout"
        }
      ]
    },
    {
      "cell_type": "code",
      "metadata": {
        "id": "u-37SdsT5_Ga",
        "colab_type": "code",
        "colab": {}
      },
      "source": [
        "from sklearn.svm import SVC\n",
        "from sklearn.model_selection import train_test_split\n",
        "\n",
        "svm_train_data   = np.load('data-lab5/svm_train_data.npy', allow_pickle=True)\n",
        "svm_train_labels = np.load('data-lab5/svm_train_labels.npy', allow_pickle=True).astype(np.bool)\n",
        "\n",
        "X_train, X_valid, y_train, y_valid = train_test_split(svm_train_data, svm_train_labels, test_size=0.2)"
      ],
      "execution_count": 20,
      "outputs": []
    },
    {
      "cell_type": "code",
      "metadata": {
        "id": "C7qQ5I_M6MtL",
        "colab_type": "code",
        "outputId": "3d5d5f78-a87a-49f5-ce1b-ed44c019bd6d",
        "colab": {
          "base_uri": "https://localhost:8080/",
          "height": 34
        }
      },
      "source": [
        "svc = SVC(1, 'linear')\n",
        "svc.fit(X_train, y_train)\n",
        "svc.score(X_valid, y_valid)"
      ],
      "execution_count": 21,
      "outputs": [
        {
          "output_type": "execute_result",
          "data": {
            "text/plain": "1.0"
          },
          "metadata": {},
          "execution_count": 21
        }
      ]
    },
    {
      "cell_type": "code",
      "metadata": {
        "id": "q8D5_6z_6n8h",
        "colab_type": "code",
        "outputId": "f1675df7-28ed-4606-9945-4a93a849e8c2",
        "colab": {
          "base_uri": "https://localhost:8080/",
          "height": 204
        }
      },
      "source": [
        "# 6.\n",
        "from sklearn import svm\n",
        "for C in [0.1, 0.3, 0.7]:\n",
        "    model = svm.SVC(C=C, kernel='linear')\n",
        "    model.fit(norm_train_features, train_labels)\n",
        "\n",
        "    #  Calculați acuratețea și F1-score pentrumulțimea de testare\n",
        "\n",
        "    from sklearn.metrics import accuracy_score, f1_score, classification_report\n",
        "\n",
        "    test_preds = model.predict(norm_test_features)\n",
        "    print(accuracy_score(test_labels, test_preds))\n",
        "    print(f1_score(test_labels, test_preds))\n",
        "    print(classification_report(test_labels, test_preds))"
      ],
      "execution_count": 28,
      "outputs": [
        {
          "output_type": "stream",
          "name": "stdout",
          "text": "0.9168478260869565\n0.5714285714285715\n              precision    recall  f1-score   support\n\n       False       0.91      1.00      0.95      1585\n        True       1.00      0.40      0.57       255\n\n    accuracy                           0.92      1840\n   macro avg       0.96      0.70      0.76      1840\nweighted avg       0.92      0.92      0.90      1840\n\n0.9739130434782609\n0.8965517241379309\n              precision    recall  f1-score   support\n\n       False       0.97      1.00      0.99      1585\n        True       1.00      0.82      0.90       255\n\n    accuracy                           0.97      1840\n   macro avg       0.98      0.91      0.94      1840\nweighted avg       0.97      0.97      0.97      1840\n\n0.9809782608695652\n0.9284253578732106\n              precision    recall  f1-score   support\n\n       False       0.98      1.00      0.99      1585\n        True       0.97      0.89      0.93       255\n\n    accuracy                           0.98      1840\n   macro avg       0.98      0.94      0.96      1840\nweighted avg       0.98      0.98      0.98      1840\n\n"
        }
      ]
    },
    {
      "cell_type": "code",
      "metadata": {
        "id": "Zh2ZmgNi7WkT",
        "colab_type": "code",
        "colab": {}
      },
      "source": [
        "weights = np.squeeze(model.coef_)\n",
        "indexes = np.argsort(weights)\n",
        "words = np.array(bow.words)\n",
        "print('NEGATIVE', words[indexes[-10:]]) # Spam words\n",
        "print('POSITIVE', words[indexes[:10]]) # Good words"
      ],
      "execution_count": 27,
      "outputs": [
        {
          "output_type": "stream",
          "name": "stdout",
          "text": "NEGATIVE ['Text' 'To' 'mobile' 'CALL' 'FREE' 'txt' '&' 'Call' 'Txt' 'STOP']\nPOSITIVE ['&lt#&gt' 'me' 'i' 'Going' 'him' 'Ok' 'I' 'Ill' 'my' 'Im']\n"
        }
      ]
    },
    {
      "cell_type": "code",
      "execution_count": 23,
      "metadata": {},
      "outputs": [
        {
          "output_type": "execute_result",
          "data": {
            "text/plain": "array([-0.0120314 , -0.11716947, -0.63366342, ...,  0.        ,\n        0.        ,  0.        ])"
          },
          "metadata": {},
          "execution_count": 23
        }
      ],
      "source": []
    }
  ],
  "metadata": {
    "colab": {
      "name": "LAB05_01.ipynb",
      "provenance": [],
      "collapsed_sections": []
    },
    "kernelspec": {
      "name": "python3",
      "display_name": "Python 3"
    }
  },
  "nbformat": 4,
  "nbformat_minor": 0
}
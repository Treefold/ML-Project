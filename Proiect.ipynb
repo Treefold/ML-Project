{
 "cells": [
  {
   "cell_type": "code",
   "execution_count": 4,
   "metadata": {},
   "outputs": [],
   "source": [
    "import numpy as np\n",
    "import csv\n",
    "from scipy.io import wavfile\n",
    "from random import randint\n",
    "import librosa\n",
    "from librosa import display\n",
    "import matplotlib.pyplot as plt\n",
    "from sklearn.metrics import confusion_matrix\n",
    "\n",
    "FileNames = {\"train\":\"ml-fmi-23-2020//train.txt\", \"valid\":\"ml-fmi-23-2020//validation.txt\", \"test\":\"ml-fmi-23-2020//test.txt\", \"ex\":\"ml-fmi-23-2020//sample_submission.txt\",\"pred\":\"ml-fmi-23-2020//predictions.txt\"}\n",
    "\n",
    "AudioFolders = {\"train\":\"ml-fmi-23-2020//train//\", \"valid\":\"ml-fmi-23-2020//validation//\", \"test\":\"ml-fmi-23-2020//test//\"}\n",
    "\n",
    "def readCsv (fileName, hasLables):\n",
    "    data = []\n",
    "    with open(fileName, \"r\", newline='\\n') as csvfile:\n",
    "        for row in csv.reader(csvfile, delimiter=','):\n",
    "            data.extend(row)\n",
    "    if hasLables:\n",
    "        data = np.transpose(np.array(data).reshape((len(data)//2, 2))) \n",
    "    else:\n",
    "        data = np.array(data)\n",
    "    return data\n",
    "def writeCsv (data, labels, fileName = FileNames['pred']):\n",
    "    with open(fileName, \"w\", newline='\\n') as csvfile:\n",
    "        writer = csv.writer(csvfile, delimiter=',')\n",
    "        writer.writerow(['name', 'label'])\n",
    "        for row in np.transpose([data, labels]):\n",
    "            writer.writerow(row)\n",
    "def getData (folderName, dataNames):\n",
    "    data = []\n",
    "    # bins = np.linspace(start = -23195, stop = 23195.0, num = 1000)\n",
    "    for dataName in dataNames:\n",
    "        audio = wavfile.read(AudioFolders[folderName]+dataName)[1].astype(np.float)\n",
    "        # sp = np.fft.fft(np.sin(audio))\n",
    "        # freq = np.fft.fftfreq(audio.shape[-1])\n",
    "        # data.append(np.transpose([freq, sp.real]))\n",
    "        data.append(np.abs(np.fft.fftfreq(audio.shape[-1])))\n",
    "        # data.append(np.digitize(audio, bins))\n",
    "    return np.array(data)"
   ]
  },
  {
   "cell_type": "code",
   "execution_count": 5,
   "metadata": {},
   "outputs": [],
   "source": [
    "# the len of each audio file is 16000 \n",
    "train_data_name, train_labels = readCsv(FileNames['train'], hasLables=True)\n",
    "valid_data_name, valid_labels = readCsv(FileNames['valid'], hasLables=True)\n",
    "test_data_name                = readCsv(FileNames['test'],  hasLables=False)\n",
    "# writeCsv(train_data, train_labels)"
   ]
  },
  {
   "cell_type": "code",
   "execution_count": 6,
   "metadata": {},
   "outputs": [],
   "source": [
    "train_data = getData('train', train_data_name)\n",
    "valid_data = getData('valid', valid_data_name)\n",
    "test_data  = getData('test',  test_data_name)"
   ]
  },
  {
   "cell_type": "code",
   "execution_count": 7,
   "metadata": {},
   "outputs": [
    {
     "output_type": "execute_result",
     "data": {
      "text/plain": "0.528"
     },
     "metadata": {},
     "execution_count": 7
    }
   ],
   "source": [
    "from sklearn.naive_bayes import MultinomialNB\n",
    "nb = MultinomialNB()\n",
    "nb.fit(train_data, train_labels)\n",
    "nb.score(valid_data, valid_labels)"
   ]
  },
  {
   "cell_type": "code",
   "execution_count": 8,
   "metadata": {},
   "outputs": [
    {
     "output_type": "execute_result",
     "data": {
      "text/plain": "array([[  0,   0],\n       [472, 528]], dtype=int64)"
     },
     "metadata": {},
     "execution_count": 8
    }
   ],
   "source": [
    "confusion_matrix(nb.predict(valid_data), valid_labels)"
   ]
  },
  {
   "cell_type": "code",
   "execution_count": 39,
   "metadata": {},
   "outputs": [],
   "source": [
    "writeCsv(test_data_name, nb.predict(test_data))"
   ]
  },
  {
   "cell_type": "code",
   "execution_count": 11,
   "metadata": {},
   "outputs": [
    {
     "output_type": "stream",
     "name": "stdout",
     "text": "0.507\n"
    }
   ],
   "source": [
    "from sklearn.discriminant_analysis import LinearDiscriminantAnalysis\n",
    "lda = LinearDiscriminantAnalysis()\n",
    "lda.fit(train_data, train_labels)\n",
    "\n",
    "valid_pred_lda = lda.predict(valid_data)\n",
    "good_lda = np.argwhere(valid_pred_lda==valid_labels)\n",
    "print (len(good_lda)/len(valid_pred_lda))"
   ]
  },
  {
   "cell_type": "code",
   "execution_count": null,
   "metadata": {},
   "outputs": [],
   "source": [
    "confusion_matrix(valid_pred_lda, valid_labels)"
   ]
  },
  {
   "cell_type": "code",
   "execution_count": 13,
   "metadata": {},
   "outputs": [
    {
     "output_type": "execute_result",
     "data": {
      "text/plain": "array([[236, 257],\n       [236, 271]], dtype=int64)"
     },
     "metadata": {},
     "execution_count": 13
    }
   ],
   "source": [
    "confusion_matrix(valid_pred_lda, valid_labels)"
   ]
  },
  {
   "cell_type": "code",
   "execution_count": 15,
   "metadata": {},
   "outputs": [],
   "source": [
    "writeCsv(test_data_name, lda.predict(test_data))"
   ]
  },
  {
   "cell_type": "code",
   "execution_count": null,
   "metadata": {},
   "outputs": [],
   "source": [
    "def plotdata (dataLen = 10, t=None):\n",
    "    if t not in ['0', '1', None]:\n",
    "        raise Exception (\"UnknownType\")\n",
    "    for i in range (dataLen):\n",
    "        curr = randint(0, len(train_data_name)-1)\n",
    "        if t is not None:\n",
    "            while train_labels[curr] != t:\n",
    "                curr = randint(0, len(train_data_name)-1)\n",
    "        \n",
    "        data = wavfile.read(AudioFolders['train']+train_data_name[curr])[1]\n",
    "\n",
    "        absdata = np.abs(data)\n",
    "        sorteddata = np.sort(absdata)\n",
    "        floatdata = data.astype(np.float)\n",
    "\n",
    "        fig, axis = plt.subplots(2,4)\n",
    "        plt.subplots_adjust(wspace=1)\n",
    "        axis[0,1].set_title (str(i) + '. Audio signal Data in time ' + str(curr) + ' - ' + (\"Mask\" if train_labels[curr]=='1' else \"NoMask\"),size=16)\n",
    "\n",
    "        axis[0,0].plot(data)\n",
    "        axis[1,0].hist(data)\n",
    "        axis[0,1].plot(absdata)\n",
    "        axis[1,1].hist(absdata)\n",
    "        axis[0,2].plot(sorteddata)\n",
    "        axis[1,2].hist(sorteddata)\n",
    "\n",
    "        plt.show()\n",
    "\n",
    "def dataHist (audioName, folder, show=True, isAbs=False):\n",
    "    data = []\n",
    "    for name in audioName:\n",
    "        data.extend(wavfile.read(AudioFolders[folder]+name)[1])\n",
    "    if isAbs:\n",
    "        data = np.abs(data)\n",
    "    plt.hist(data)\n",
    "    plt.title('All Hist for ' + folder,size=16)\n",
    "    if show:\n",
    "        plt.show()\n",
    "    return data\n",
    "\n",
    "def dataHistAll (audioNames, folderKeys, isAbs=False):\n",
    "    data = []\n",
    "    for i in range (len(audioNames)):\n",
    "        data.extend(dataHist(audioNames[i], folderKeys[i], isAbs=isAbs))\n",
    "    plt.hist(data)\n",
    "    plt.title('Hist over all',size=16)\n",
    "    plt.show()\n",
    "\n",
    "def spectrogram (dataLen = 10, t=None):\n",
    "    if t not in ['0', '1', None]:\n",
    "        raise Exception (\"UnknownType\")\n",
    "    for i in range (dataLen):\n",
    "        curr = randint(0, len(train_data_name)-1)\n",
    "        if t is not None:\n",
    "            while train_labels[curr] != t:\n",
    "                curr = randint(0, len(train_data_name)-1)\n",
    "        \n",
    "        # data = wavfile.read(AudioFolders['train']+train_data_name[randint(0, len(train_data)-1)])[1].astype(np.float)\n",
    "        x , sr = librosa.load(AudioFolders['train']+train_data_name[curr])\n",
    "        X = librosa.stft(x)\n",
    "        librosa.fft\n",
    "        Xdb = librosa.amplitude_to_db(abs(X))\n",
    "        plt.figure(figsize=(14, 5))\n",
    "        plt.title(str(i) + '. Audio signal Data in time ' + str(curr) + ' - ' + (\"Mask\" if train_labels[curr]=='1' else \"NoMask\"),size=16)\n",
    "        display.specshow(Xdb, sr=sr, x_axis='time', y_axis='hz')\n",
    "        plt.colorbar()\n",
    "        plt.show()\n",
    "        plt.figure(figsize=(14, 5))\n",
    "        plt.title(str(i) + '. Audio signal Data in time ' + str(curr) + ' - ' + (\"Mask\" if train_labels[curr]=='1' else \"NoMask\"),size=16)\n",
    "        display.specshow(Xdb, sr=sr, x_axis='time', y_axis='log')\n",
    "        plt.colorbar()\n",
    "        plt.show()\n",
    "\n",
    "# dataHistAll ([train_data, valid_data, test_data], list(AudioFolders.keys()))\n",
    "# plotdata()"
   ]
  },
  {
   "cell_type": "code",
   "execution_count": null,
   "metadata": {},
   "outputs": [],
   "source": [
    "from sklearn.neighbors import KNeighborsClassifier\n",
    "knn = KNeighborsClassifier(13)\n",
    "knn.fit(train_data, train_labels)\n",
    "# knn.score(valid_data, valid_labels)\n",
    "valid_pred_knn = knn.predict(valid_data)\n",
    "good_knn = np.argwhere(valid_pred_knn==valid_labels).reshape(-1)\n",
    "print (len(good_knn)/len(valid_pred_knn))"
   ]
  },
  {
   "cell_type": "code",
   "execution_count": null,
   "metadata": {},
   "outputs": [],
   "source": [
    "good = np.argwhere(valid_pred==valid_labels).reshape(-1)\n",
    "print (len(good)/len(valid_pred))"
   ]
  },
  {
   "cell_type": "code",
   "execution_count": null,
   "metadata": {},
   "outputs": [],
   "source": [
    "confusion_matrix(valid_pred, valid_labels)"
   ]
  },
  {
   "cell_type": "code",
   "execution_count": null,
   "metadata": {},
   "outputs": [],
   "source": [
    "writeCsv(test_data_name, knn.predict(test_data))"
   ]
  },
  {
   "cell_type": "code",
   "execution_count": 85,
   "metadata": {},
   "outputs": [],
   "source": [
    "from sklearn.svm import SVC\n",
    "svc = SVC(1, 'linear')\n",
    "svc.fit(train_data, train_labels)\n",
    "valid_pred_svc = svc.predict(valid_data)\n",
    "good = np.argwhere(valid_pred_svc==valid_labels)\n",
    "print (len(good)/len(valid_pred_svc))"
   ]
  },
  {
   "cell_type": "code",
   "execution_count": null,
   "metadata": {},
   "outputs": [],
   "source": [
    "confusion_matrix(valid_pred_svc, valid_labels)"
   ]
  },
  {
   "cell_type": "code",
   "execution_count": null,
   "metadata": {},
   "outputs": [],
   "source": [
    "writeCsv(test_data_name, svc.predict(test_data))"
   ]
  },
  {
   "cell_type": "code",
   "execution_count": null,
   "metadata": {},
   "outputs": [],
   "source": [
    "import matplotlib.pyplot as plt\n",
    "t = wavfile.read(AudioFolders['train']+train_data_name[randint(0, len(train_data_name)-1)])[1].astype(np.float)\n",
    "sp = np.fft.fft(np.sin(t))\n",
    "freq = np.fft.fftfreq(t.shape[-1])\n",
    "np.transpose([freq, sp.real])\n",
    "\n",
    "plt.plot(freq, sp, freq, sp.imag)\n",
    "plt.show()"
   ]
  },
  {
   "cell_type": "code",
   "execution_count": null,
   "metadata": {},
   "outputs": [],
   "source": [
    "data = wavfile.read(AudioFolders['train']+train_data[randint(0, len(train_data)-1)])[1].astype(np.float)\n",
    "print(librosa.core.stft(data))\n",
    "plt.plot(librosa.core.stft(data))\n",
    "plt.show()\n",
    "print(librosa.feature.melspectrogram(data))\n",
    "plt.plot(librosa.feature.melspectrogram(data))\n",
    "plt.show()\n"
   ]
  },
  {
   "cell_type": "code",
   "execution_count": null,
   "metadata": {},
   "outputs": [],
   "source": [
    "print(librosa.core.stft(data))\n",
    "plt.plot(librosa.core.stft(data))\n",
    "plt.show()\n",
    "print(librosa.feature.melspectrogram(data))\n",
    "plt.plot(librosa.feature.melspectrogram(data))\n",
    "plt.show()"
   ]
  }
 ],
 "metadata": {
  "language_info": {
   "codemirror_mode": {
    "name": "ipython",
    "version": 3
   },
   "file_extension": ".py",
   "mimetype": "text/x-python",
   "name": "python",
   "nbconvert_exporter": "python",
   "pygments_lexer": "ipython3",
   "version": "3.7.4-final"
  },
  "orig_nbformat": 2,
  "kernelspec": {
   "name": "python37464bitbasecondab3dbb16f6ffe42d1a2b7ff37587b3e3b",
   "display_name": "Python 3.7.4 64-bit ('base': conda)"
  }
 },
 "nbformat": 4,
 "nbformat_minor": 2
}
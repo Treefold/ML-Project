{
 "cells": [
  {
   "cell_type": "code",
   "execution_count": 3,
   "metadata": {},
   "outputs": [
    {
     "output_type": "stream",
     "name": "stdout",
     "text": "The first 4 samples are:\n  [[2.0150e+03 4.1000e+04 1.9670e+01 1.5820e+03 1.2620e+02 5.0000e+00\n  1.0000e+00 0.0000e+00 1.0000e+00 0.0000e+00 0.0000e+00 0.0000e+00\n  1.0000e+00 0.0000e+00]\n [2.0110e+03 4.6000e+04 1.8200e+01 1.1990e+03 8.8700e+01 5.0000e+00\n  1.0000e+00 0.0000e+00 0.0000e+00 1.0000e+00 0.0000e+00 0.0000e+00\n  1.0000e+00 0.0000e+00]\n [2.0120e+03 8.7000e+04 2.0770e+01 1.2480e+03 8.8760e+01 7.0000e+00\n  1.0000e+00 0.0000e+00 1.0000e+00 0.0000e+00 0.0000e+00 0.0000e+00\n  1.0000e+00 0.0000e+00]\n [2.0130e+03 8.6999e+04 2.3080e+01 1.4610e+03 6.3100e+01 5.0000e+00\n  1.0000e+00 0.0000e+00 1.0000e+00 0.0000e+00 0.0000e+00 0.0000e+00\n  1.0000e+00 0.0000e+00]]\nThe first 4 prices are:\n  [12.5  4.5  6.   3.5]\n"
    }
   ],
   "source": [
    "import numpy as np\n",
    "from sklearn.utils import shuffle\n",
    "# load training data\n",
    "training_data = np.load('data-lab6/training_data.npy')\n",
    "prices = np.load('data-lab6/prices.npy')\n",
    "# print the first 4 samples\n",
    "print('The first 4 samples are:\\n ', training_data[:4])\n",
    "print('The first 4 prices are:\\n ', prices[:4])\n",
    "# shuffle\n",
    "training_data, prices = shuffle(training_data, prices, random_state=0)"
   ]
  },
  {
   "cell_type": "code",
   "execution_count": 2,
   "metadata": {},
   "outputs": [],
   "source": [
    "import matplotlib.pyplot as plt\n",
    "def compute_y(x, W, bias):\n",
    "    # dreapta de decizie\n",
    "    # [x, y] * [W[0], W[1]] + b = 0\n",
    "    return (-x * W[0] - bias) / (W[1] + 1e-10)\n",
    "def plot_decision_boundary(X, y , W, b, current_x, current_y):\n",
    "    x1 = -0.5\n",
    "    y1 = compute_y(x1, W, b)\n",
    "    x2 = 0.5\n",
    "    y2 = compute_y(x2, W, b)\n",
    "    # sterge continutul ferestrei\n",
    "    plt.clf()\n",
    "    # ploteaza multimea de antrenare\n",
    "    color = 'r'\n",
    "    if(current_y == -1):\n",
    "        color = 'b'\n",
    "    plt.ylim((-1, 2))\n",
    "    plt.xlim((-1, 2))\n",
    "    plt.plot(X[y == -1, 0], X[y == -1, 1], 'b+')\n",
    "    plt.plot(X[y == 1, 0], X[y == 1, 1], 'r+')\n",
    "    # ploteaza exemplul curent\n",
    "    plt.plot(current_x[0], current_x[1], color+'s')\n",
    "    # afisarea dreptei de decizie\n",
    "    plt.plot([x1, x2] ,[y1, y2], 'black')\n",
    "    plt.show(block=False)\n",
    "    plt.pause(0.3)"
   ]
  },
  {
   "cell_type": "code",
   "execution_count": 5,
   "metadata": {},
   "outputs": [],
   "source": [
    "import numpy as np"
   ]
  },
  {
   "cell_type": "code",
   "execution_count": 6,
   "metadata": {},
   "outputs": [],
   "source": [
    "# 1\n",
    "x = np.array([[0, 0], [0, 1], [1, 0], [1, 1]])\n",
    "y = np.array([-1, 1, 1, 1])\n",
    "# 2\n",
    "w = np.zeros (len(x[0]))\n",
    "b = 0"
   ]
  },
  {
   "cell_type": "code",
   "execution_count": null,
   "metadata": {},
   "outputs": [],
   "source": []
  }
 ],
 "metadata": {
  "language_info": {
   "codemirror_mode": {
    "name": "ipython",
    "version": 3
   },
   "file_extension": ".py",
   "mimetype": "text/x-python",
   "name": "python",
   "nbconvert_exporter": "python",
   "pygments_lexer": "ipython3",
   "version": "3.7.4-final"
  },
  "orig_nbformat": 2,
  "kernelspec": {
   "name": "python3",
   "display_name": "Python 3"
  }
 },
 "nbformat": 4,
 "nbformat_minor": 2
}
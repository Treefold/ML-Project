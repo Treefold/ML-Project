{
 "cells": [
  {
   "cell_type": "code",
   "execution_count": 3,
   "metadata": {},
   "outputs": [
    {
     "output_type": "stream",
     "name": "stdout",
     "text": "The first 4 samples are:\n  [[2.0150e+03 4.1000e+04 1.9670e+01 1.5820e+03 1.2620e+02 5.0000e+00\n  1.0000e+00 0.0000e+00 1.0000e+00 0.0000e+00 0.0000e+00 0.0000e+00\n  1.0000e+00 0.0000e+00]\n [2.0110e+03 4.6000e+04 1.8200e+01 1.1990e+03 8.8700e+01 5.0000e+00\n  1.0000e+00 0.0000e+00 0.0000e+00 1.0000e+00 0.0000e+00 0.0000e+00\n  1.0000e+00 0.0000e+00]\n [2.0120e+03 8.7000e+04 2.0770e+01 1.2480e+03 8.8760e+01 7.0000e+00\n  1.0000e+00 0.0000e+00 1.0000e+00 0.0000e+00 0.0000e+00 0.0000e+00\n  1.0000e+00 0.0000e+00]\n [2.0130e+03 8.6999e+04 2.3080e+01 1.4610e+03 6.3100e+01 5.0000e+00\n  1.0000e+00 0.0000e+00 1.0000e+00 0.0000e+00 0.0000e+00 0.0000e+00\n  1.0000e+00 0.0000e+00]]\nThe first 4 prices are:\n  [12.5  4.5  6.   3.5]\n"
    }
   ],
   "source": [
    "import numpy as np\n",
    "from sklearn.utils import shuffle\n",
    "# load training data\n",
    "training_data = np.load('data-lab6/training_data.npy')\n",
    "prices = np.load('data-lab6/prices.npy')\n",
    "# print the first 4 samples\n",
    "print('The first 4 samples are:\\n ', training_data[:4])\n",
    "print('The first 4 prices are:\\n ', prices[:4])\n",
    "# shuffle\n",
    "training_data, prices = shuffle(training_data, prices, random_state=0)"
   ]
  },
  {
   "cell_type": "code",
   "execution_count": 1,
   "metadata": {},
   "outputs": [],
   "source": [
    "from sklearn.preprocessing import MinMaxScaler"
   ]
  },
  {
   "cell_type": "code",
   "execution_count": 6,
   "metadata": {},
   "outputs": [
    {
     "output_type": "execute_result",
     "data": {
      "text/plain": "array([[1.0991227e-01, 1.0000000e+00, 1.1933955e-03, ..., 0.0000000e+00,\n        0.0000000e+00, 5.4492943e-05],\n       [2.2142857e-02, 9.9999994e-01, 2.3186814e-04, ..., 0.0000000e+00,\n        1.0989011e-05, 0.0000000e+00],\n       [9.7643584e-02, 1.0000000e+00, 9.1450132e-04, ..., 0.0000000e+00,\n        0.0000000e+00, 4.8386315e-05],\n       ...,\n       [3.5710476e-02, 1.0000000e+00, 3.1122178e-04, ..., 0.0000000e+00,\n        1.7784101e-05, 0.0000000e+00],\n       [3.3550002e-02, 1.0000000e+00, 3.2733331e-04, ..., 0.0000000e+00,\n        1.6666667e-05, 0.0000000e+00],\n       [2.8757143e-01, 1.0000000e+00, 2.5671427e-03, ..., 0.0000000e+00,\n        0.0000000e+00, 1.4285714e-04]], dtype=float32)"
     },
     "metadata": {},
     "execution_count": 6
    }
   ],
   "source": [
    "scaler = MinMaxScaler()\n",
    "transData = np.transpose(training_data)\n",
    "scaler.fit(transData)\n",
    "training_data_processed = np.transpose(scaler.transform (transData))\n",
    "training_data_processed"
   ]
  },
  {
   "cell_type": "code",
   "execution_count": 21,
   "metadata": {},
   "outputs": [
    {
     "output_type": "execute_result",
     "data": {
      "text/plain": "MinMaxScaler(copy=True, feature_range=(0, 1))"
     },
     "metadata": {},
     "execution_count": 21
    }
   ],
   "source": [
    "scaler = MinMaxScaler()\n",
    "price_to_scale = np.array(prices)\n",
    "price_to_scale = price_to_scale.reshape((1,-1))\n",
    "scaler.fit(price_to_scale)"
   ]
  },
  {
   "cell_type": "code",
   "execution_count": 22,
   "metadata": {},
   "outputs": [
    {
     "output_type": "execute_result",
     "data": {
      "text/plain": "array([[0., 0., 0., ..., 0., 0., 0.]], dtype=float32)"
     },
     "metadata": {},
     "execution_count": 22
    }
   ],
   "source": [
    "prices_processed = scaler.transform (price_to_scale)\n",
    "prices_processed"
   ]
  },
  {
   "cell_type": "code",
   "execution_count": 19,
   "metadata": {},
   "outputs": [
    {
     "output_type": "execute_result",
     "data": {
      "text/plain": "array([3.41, 2.5 , 7.55, ..., 2.4 , 7.5 , 3.65], dtype=float32)"
     },
     "metadata": {},
     "execution_count": 19
    }
   ],
   "source": [
    "prices"
   ]
  }
 ],
 "metadata": {
  "language_info": {
   "codemirror_mode": {
    "name": "ipython",
    "version": 3
   },
   "file_extension": ".py",
   "mimetype": "text/x-python",
   "name": "python",
   "nbconvert_exporter": "python",
   "pygments_lexer": "ipython3",
   "version": "3.7.4-final"
  },
  "orig_nbformat": 2,
  "kernelspec": {
   "name": "python3",
   "display_name": "Python 3"
  }
 },
 "nbformat": 4,
 "nbformat_minor": 2
}